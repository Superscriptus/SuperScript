{
 "cells": [
  {
   "cell_type": "code",
   "execution_count": 29,
   "metadata": {},
   "outputs": [],
   "source": [
    "#DATA_DIR = '../simulation_io/1000_worker_deptwl_0.3_290321_v0.0/'\n",
    "#DATA_DIR = '../simulation_io/budget_off_260321_v0.0/'\n",
    "DATA_DIR = '../simulation_io/normal_run_260321_v0.0/'\n"
   ]
  },
  {
   "cell_type": "code",
   "execution_count": 30,
   "metadata": {},
   "outputs": [],
   "source": [
    "import pickle\n",
    "import numpy as np\n",
    "import networkx as nx\n",
    "import matplotlib.pyplot as plt\n",
    "%matplotlib inline\n",
    "\n",
    "import os, sys\n",
    "MODEL_DIR = os.path.realpath(os.path.dirname('../superscript_model'))\n",
    "sys.path.append(os.path.normpath(MODEL_DIR))\n",
    "from superscript_model import model"
   ]
  },
  {
   "cell_type": "code",
   "execution_count": 35,
   "metadata": {},
   "outputs": [],
   "source": [
    "#with open(DATA_DIR + 'Basic/agents_vars_rep_0.pickle', 'rb') as ifile:\n",
    "\n",
    "with open(DATA_DIR + 'Random/projects_table_rep_0.pickle', 'rb') as ifile:\n",
    "    random = pickle.load(ifile)\n",
    "\n",
    "with open(DATA_DIR + 'Basic/projects_table_rep_0.pickle', 'rb') as ifile:\n",
    "    basic = pickle.load(ifile)\n",
    "    \n",
    "with open(DATA_DIR + 'Basin/projects_table_rep_0.pickle', 'rb') as ifile:\n",
    "    basin = pickle.load(ifile)"
   ]
  },
  {
   "cell_type": "code",
   "execution_count": 36,
   "metadata": {},
   "outputs": [
    {
     "data": {
      "text/html": [
       "<div>\n",
       "<style scoped>\n",
       "    .dataframe tbody tr th:only-of-type {\n",
       "        vertical-align: middle;\n",
       "    }\n",
       "\n",
       "    .dataframe tbody tr th {\n",
       "        vertical-align: top;\n",
       "    }\n",
       "\n",
       "    .dataframe thead th {\n",
       "        text-align: right;\n",
       "    }\n",
       "</style>\n",
       "<table border=\"1\" class=\"dataframe\">\n",
       "  <thead>\n",
       "    <tr style=\"text-align: right;\">\n",
       "      <th></th>\n",
       "      <th>project_id</th>\n",
       "      <th>prob</th>\n",
       "      <th>risk</th>\n",
       "      <th>budget</th>\n",
       "      <th>null</th>\n",
       "      <th>success</th>\n",
       "      <th>maximum_offset</th>\n",
       "      <th>realised_offset</th>\n",
       "      <th>start_time</th>\n",
       "      <th>ovr_prob_cpt</th>\n",
       "      <th>skill_balance_prob_cpt</th>\n",
       "      <th>creativity_match_prob_cpt</th>\n",
       "      <th>risk_prob_cpt</th>\n",
       "      <th>chemistry_prob_cpt</th>\n",
       "      <th>team_budget</th>\n",
       "      <th>team_ovr</th>\n",
       "      <th>team_creativity_match</th>\n",
       "      <th>team_size</th>\n",
       "    </tr>\n",
       "  </thead>\n",
       "  <tbody>\n",
       "    <tr>\n",
       "      <th>0</th>\n",
       "      <td>1</td>\n",
       "      <td>0.000000</td>\n",
       "      <td>10</td>\n",
       "      <td>9.0</td>\n",
       "      <td>True</td>\n",
       "      <td>False</td>\n",
       "      <td>0</td>\n",
       "      <td>0</td>\n",
       "      <td>0</td>\n",
       "      <td>0.000000</td>\n",
       "      <td>0.000000</td>\n",
       "      <td>10.000000</td>\n",
       "      <td>3.75</td>\n",
       "      <td>0.000000</td>\n",
       "      <td>NaN</td>\n",
       "      <td>NaN</td>\n",
       "      <td>NaN</td>\n",
       "      <td>NaN</td>\n",
       "    </tr>\n",
       "    <tr>\n",
       "      <th>1</th>\n",
       "      <td>0</td>\n",
       "      <td>0.000000</td>\n",
       "      <td>10</td>\n",
       "      <td>89.0</td>\n",
       "      <td>False</td>\n",
       "      <td>False</td>\n",
       "      <td>0</td>\n",
       "      <td>0</td>\n",
       "      <td>0</td>\n",
       "      <td>21.187822</td>\n",
       "      <td>-9.550812</td>\n",
       "      <td>-29.943547</td>\n",
       "      <td>-3.75</td>\n",
       "      <td>5.000000</td>\n",
       "      <td>48.025730</td>\n",
       "      <td>28.250430</td>\n",
       "      <td>6.563233</td>\n",
       "      <td>5.0</td>\n",
       "    </tr>\n",
       "    <tr>\n",
       "      <th>2</th>\n",
       "      <td>8</td>\n",
       "      <td>0.000000</td>\n",
       "      <td>25</td>\n",
       "      <td>4.0</td>\n",
       "      <td>True</td>\n",
       "      <td>False</td>\n",
       "      <td>0</td>\n",
       "      <td>0</td>\n",
       "      <td>4</td>\n",
       "      <td>0.000000</td>\n",
       "      <td>0.000000</td>\n",
       "      <td>10.000000</td>\n",
       "      <td>3.75</td>\n",
       "      <td>0.000000</td>\n",
       "      <td>NaN</td>\n",
       "      <td>NaN</td>\n",
       "      <td>NaN</td>\n",
       "      <td>NaN</td>\n",
       "    </tr>\n",
       "    <tr>\n",
       "      <th>3</th>\n",
       "      <td>9</td>\n",
       "      <td>0.000000</td>\n",
       "      <td>5</td>\n",
       "      <td>6.0</td>\n",
       "      <td>True</td>\n",
       "      <td>False</td>\n",
       "      <td>0</td>\n",
       "      <td>0</td>\n",
       "      <td>4</td>\n",
       "      <td>0.000000</td>\n",
       "      <td>0.000000</td>\n",
       "      <td>10.000000</td>\n",
       "      <td>3.75</td>\n",
       "      <td>0.000000</td>\n",
       "      <td>NaN</td>\n",
       "      <td>NaN</td>\n",
       "      <td>NaN</td>\n",
       "      <td>NaN</td>\n",
       "    </tr>\n",
       "    <tr>\n",
       "      <th>4</th>\n",
       "      <td>2</td>\n",
       "      <td>0.020475</td>\n",
       "      <td>25</td>\n",
       "      <td>60.0</td>\n",
       "      <td>False</td>\n",
       "      <td>False</td>\n",
       "      <td>0</td>\n",
       "      <td>0</td>\n",
       "      <td>1</td>\n",
       "      <td>46.497630</td>\n",
       "      <td>-4.567985</td>\n",
       "      <td>-29.882107</td>\n",
       "      <td>-15.00</td>\n",
       "      <td>5.000000</td>\n",
       "      <td>40.297946</td>\n",
       "      <td>61.996840</td>\n",
       "      <td>5.826858</td>\n",
       "      <td>6.0</td>\n",
       "    </tr>\n",
       "    <tr>\n",
       "      <th>...</th>\n",
       "      <td>...</td>\n",
       "      <td>...</td>\n",
       "      <td>...</td>\n",
       "      <td>...</td>\n",
       "      <td>...</td>\n",
       "      <td>...</td>\n",
       "      <td>...</td>\n",
       "      <td>...</td>\n",
       "      <td>...</td>\n",
       "      <td>...</td>\n",
       "      <td>...</td>\n",
       "      <td>...</td>\n",
       "      <td>...</td>\n",
       "      <td>...</td>\n",
       "      <td>...</td>\n",
       "      <td>...</td>\n",
       "      <td>...</td>\n",
       "      <td>...</td>\n",
       "    </tr>\n",
       "    <tr>\n",
       "      <th>191</th>\n",
       "      <td>189</td>\n",
       "      <td>0.584976</td>\n",
       "      <td>5</td>\n",
       "      <td>19.0</td>\n",
       "      <td>False</td>\n",
       "      <td>True</td>\n",
       "      <td>0</td>\n",
       "      <td>0</td>\n",
       "      <td>94</td>\n",
       "      <td>43.834557</td>\n",
       "      <td>-1.456895</td>\n",
       "      <td>9.869955</td>\n",
       "      <td>0.00</td>\n",
       "      <td>6.875000</td>\n",
       "      <td>17.533823</td>\n",
       "      <td>58.446077</td>\n",
       "      <td>0.003256</td>\n",
       "      <td>4.0</td>\n",
       "    </tr>\n",
       "    <tr>\n",
       "      <th>192</th>\n",
       "      <td>188</td>\n",
       "      <td>0.000000</td>\n",
       "      <td>25</td>\n",
       "      <td>91.0</td>\n",
       "      <td>False</td>\n",
       "      <td>False</td>\n",
       "      <td>0</td>\n",
       "      <td>0</td>\n",
       "      <td>94</td>\n",
       "      <td>19.218142</td>\n",
       "      <td>-7.270019</td>\n",
       "      <td>-5.195090</td>\n",
       "      <td>-15.00</td>\n",
       "      <td>5.000000</td>\n",
       "      <td>44.842331</td>\n",
       "      <td>25.624189</td>\n",
       "      <td>0.477838</td>\n",
       "      <td>3.0</td>\n",
       "    </tr>\n",
       "    <tr>\n",
       "      <th>193</th>\n",
       "      <td>197</td>\n",
       "      <td>0.000000</td>\n",
       "      <td>25</td>\n",
       "      <td>88.0</td>\n",
       "      <td>True</td>\n",
       "      <td>False</td>\n",
       "      <td>0</td>\n",
       "      <td>0</td>\n",
       "      <td>98</td>\n",
       "      <td>0.000000</td>\n",
       "      <td>0.000000</td>\n",
       "      <td>10.000000</td>\n",
       "      <td>3.75</td>\n",
       "      <td>0.000000</td>\n",
       "      <td>NaN</td>\n",
       "      <td>NaN</td>\n",
       "      <td>NaN</td>\n",
       "      <td>NaN</td>\n",
       "    </tr>\n",
       "    <tr>\n",
       "      <th>194</th>\n",
       "      <td>190</td>\n",
       "      <td>0.000000</td>\n",
       "      <td>25</td>\n",
       "      <td>74.0</td>\n",
       "      <td>False</td>\n",
       "      <td>False</td>\n",
       "      <td>0</td>\n",
       "      <td>0</td>\n",
       "      <td>95</td>\n",
       "      <td>37.712452</td>\n",
       "      <td>-12.709547</td>\n",
       "      <td>-27.978724</td>\n",
       "      <td>-15.00</td>\n",
       "      <td>5.416667</td>\n",
       "      <td>52.797433</td>\n",
       "      <td>50.283269</td>\n",
       "      <td>2.985150</td>\n",
       "      <td>6.0</td>\n",
       "    </tr>\n",
       "    <tr>\n",
       "      <th>195</th>\n",
       "      <td>198</td>\n",
       "      <td>0.000000</td>\n",
       "      <td>5</td>\n",
       "      <td>20.0</td>\n",
       "      <td>True</td>\n",
       "      <td>False</td>\n",
       "      <td>0</td>\n",
       "      <td>0</td>\n",
       "      <td>99</td>\n",
       "      <td>0.000000</td>\n",
       "      <td>0.000000</td>\n",
       "      <td>10.000000</td>\n",
       "      <td>3.75</td>\n",
       "      <td>0.000000</td>\n",
       "      <td>NaN</td>\n",
       "      <td>NaN</td>\n",
       "      <td>NaN</td>\n",
       "      <td>NaN</td>\n",
       "    </tr>\n",
       "  </tbody>\n",
       "</table>\n",
       "<p>196 rows × 18 columns</p>\n",
       "</div>"
      ],
      "text/plain": [
       "     project_id      prob  risk  budget   null  success  maximum_offset  \\\n",
       "0             1  0.000000    10     9.0   True    False               0   \n",
       "1             0  0.000000    10    89.0  False    False               0   \n",
       "2             8  0.000000    25     4.0   True    False               0   \n",
       "3             9  0.000000     5     6.0   True    False               0   \n",
       "4             2  0.020475    25    60.0  False    False               0   \n",
       "..          ...       ...   ...     ...    ...      ...             ...   \n",
       "191         189  0.584976     5    19.0  False     True               0   \n",
       "192         188  0.000000    25    91.0  False    False               0   \n",
       "193         197  0.000000    25    88.0   True    False               0   \n",
       "194         190  0.000000    25    74.0  False    False               0   \n",
       "195         198  0.000000     5    20.0   True    False               0   \n",
       "\n",
       "     realised_offset  start_time  ovr_prob_cpt  skill_balance_prob_cpt  \\\n",
       "0                  0           0      0.000000                0.000000   \n",
       "1                  0           0     21.187822               -9.550812   \n",
       "2                  0           4      0.000000                0.000000   \n",
       "3                  0           4      0.000000                0.000000   \n",
       "4                  0           1     46.497630               -4.567985   \n",
       "..               ...         ...           ...                     ...   \n",
       "191                0          94     43.834557               -1.456895   \n",
       "192                0          94     19.218142               -7.270019   \n",
       "193                0          98      0.000000                0.000000   \n",
       "194                0          95     37.712452              -12.709547   \n",
       "195                0          99      0.000000                0.000000   \n",
       "\n",
       "     creativity_match_prob_cpt  risk_prob_cpt  chemistry_prob_cpt  \\\n",
       "0                    10.000000           3.75            0.000000   \n",
       "1                   -29.943547          -3.75            5.000000   \n",
       "2                    10.000000           3.75            0.000000   \n",
       "3                    10.000000           3.75            0.000000   \n",
       "4                   -29.882107         -15.00            5.000000   \n",
       "..                         ...            ...                 ...   \n",
       "191                   9.869955           0.00            6.875000   \n",
       "192                  -5.195090         -15.00            5.000000   \n",
       "193                  10.000000           3.75            0.000000   \n",
       "194                 -27.978724         -15.00            5.416667   \n",
       "195                  10.000000           3.75            0.000000   \n",
       "\n",
       "     team_budget   team_ovr  team_creativity_match  team_size  \n",
       "0            NaN        NaN                    NaN        NaN  \n",
       "1      48.025730  28.250430               6.563233        5.0  \n",
       "2            NaN        NaN                    NaN        NaN  \n",
       "3            NaN        NaN                    NaN        NaN  \n",
       "4      40.297946  61.996840               5.826858        6.0  \n",
       "..           ...        ...                    ...        ...  \n",
       "191    17.533823  58.446077               0.003256        4.0  \n",
       "192    44.842331  25.624189               0.477838        3.0  \n",
       "193          NaN        NaN                    NaN        NaN  \n",
       "194    52.797433  50.283269               2.985150        6.0  \n",
       "195          NaN        NaN                    NaN        NaN  \n",
       "\n",
       "[196 rows x 18 columns]"
      ]
     },
     "execution_count": 36,
     "metadata": {},
     "output_type": "execute_result"
    }
   ],
   "source": [
    "random"
   ]
  },
  {
   "cell_type": "code",
   "execution_count": 37,
   "metadata": {},
   "outputs": [
    {
     "data": {
      "image/png": "[encoded data removed]",
      "text/plain": [
       "<Figure size 432x288 with 1 Axes>"
      ]
     },
     "metadata": {
      "needs_background": "light"
     },
     "output_type": "display_data"
    }
   ],
   "source": [
    "plt.hist(random.realised_offset);"
   ]
  },
  {
   "cell_type": "code",
   "execution_count": 38,
   "metadata": {},
   "outputs": [
    {
     "name": "stdout",
     "output_type": "stream",
     "text": [
      "Fraction of null projects.\n",
      "Random:  0.23\n",
      "Basin with timeline flex:  0.06\n",
      "Basin without timeline flex:  0.01\n"
     ]
    }
   ],
   "source": [
    "print(\"Fraction of null projects.\")\n",
    "print(\"Random: \", np.round(sum(random.null) / len(random), 2))\n",
    "print(\"Basin with timeline flex: \", np.round(sum(basic.null) / len(basic), 2))\n",
    "print(\"Basin without timeline flex: \", np.round(sum(basin.null) / len(basin), 2))"
   ]
  },
  {
   "cell_type": "code",
   "execution_count": 40,
   "metadata": {},
   "outputs": [
    {
     "data": {
      "image/png": "[encoded data removed]",
      "text/plain": [
       "<Figure size 504x360 with 1 Axes>"
      ]
     },
     "metadata": {
      "needs_background": "light"
     },
     "output_type": "display_data"
    }
   ],
   "source": [
    "fs = 12\n",
    "ps = 5\n",
    "plt.figure(figsize=(7,5))\n",
    "plt.scatter(random.budget,\n",
    "            random.prob * random.risk,\n",
    "            label='random', color='green', s=ps)\n",
    "\n",
    "plt.scatter(basic.budget,\n",
    "            basic.prob * basic.risk,\n",
    "            label='basic', color='blue', s=ps)\n",
    "\n",
    "plt.scatter(basin.budget,\n",
    "            basin.prob * basin.risk,\n",
    "            label='basin (no flex)', color='red', s=ps)\n",
    "\n",
    "plt.xlabel(\"project budget\", fontsize=fs)\n",
    "plt.ylabel(\"expected value (prob * risk)\", fontsize=fs)\n",
    "plt.title(\"All projects\")\n",
    "plt.legend();"
   ]
  },
  {
   "cell_type": "code",
   "execution_count": 42,
   "metadata": {},
   "outputs": [
    {
     "name": "stdout",
     "output_type": "stream",
     "text": [
      "Mean probability of success.\n",
      "Random:  0.08\n",
      "Basic:  0.21\n",
      "Basin without timeline flex:  0.32\n"
     ]
    }
   ],
   "source": [
    "print(\"Mean probability of success.\")\n",
    "print(\"Random: \", np.round(np.mean(random.prob), 2))\n",
    "print(\"Basic: \", np.round(np.mean(basic.prob), 2))\n",
    "print(\"Basin without timeline flex: \", np.round(np.mean(basin.prob), 2))"
   ]
  },
  {
   "cell_type": "code",
   "execution_count": 43,
   "metadata": {},
   "outputs": [
    {
     "name": "stdout",
     "output_type": "stream",
     "text": [
      "Fraction of successful projects.\n",
      "Random:  0.09\n",
      "Basic:  0.21\n",
      "Basin without timeline flex:  0.3\n"
     ]
    }
   ],
   "source": [
    "print(\"Fraction of successful projects.\")\n",
    "print(\"Random: \", np.round(sum(random.success) / len(random), 2))\n",
    "print(\"Basic: \", np.round(sum(basic.success) / len(basic), 2))\n",
    "print(\"Basin without timeline flex: \", np.round(sum(basin.success) / len(basin), 2))"
   ]
  },
  {
   "cell_type": "code",
   "execution_count": 68,
   "metadata": {},
   "outputs": [],
   "source": [
    "DATA_DIR = '../simulation_io/deptwl_0.6_260321_v0.0/'\n",
    "with open(DATA_DIR + 'Random/model_vars_rep_0.pickle', 'rb') as ifile:\n",
    "    test = pickle.load(ifile)"
   ]
  },
  {
   "cell_type": "code",
   "execution_count": 69,
   "metadata": {},
   "outputs": [
    {
     "data": {
      "text/plain": [
       "[<matplotlib.lines.Line2D at 0x7f60221eef50>]"
      ]
     },
     "execution_count": 69,
     "metadata": {},
     "output_type": "execute_result"
    },
    {
     "data": {
      "image/png": "[encoded data removed]",
      "text/plain": [
       "<Figure size 432x288 with 1 Axes>"
      ]
     },
     "metadata": {
      "needs_background": "light"
     },
     "output_type": "display_data"
    }
   ],
   "source": [
    "plt.plot(test.index, test.TrainingLoad, 'b')\n",
    "plt.plot(test.index, test.ProjectLoad, 'g')\n",
    "plt.plot(test.index, test.DeptLoad, 'k')\n",
    "plt.plot(test.index, test.Slack, 'r')"
   ]
  },
  {
   "cell_type": "code",
   "execution_count": 60,
   "metadata": {},
   "outputs": [],
   "source": [
    "DATA_DIR = '../simulation_io/normal_run_260321_v0.0/'\n",
    "with open(DATA_DIR + 'Random/model_vars_rep_0.pickle', 'rb') as ifile:\n",
    "    test = pickle.load(ifile)"
   ]
  },
  {
   "cell_type": "code",
   "execution_count": 61,
   "metadata": {},
   "outputs": [
    {
     "data": {
      "text/plain": [
       "[<matplotlib.lines.Line2D at 0x7f6021f2a1d0>]"
      ]
     },
     "execution_count": 61,
     "metadata": {},
     "output_type": "execute_result"
    },
    {
     "data": {
      "image/png": "[encoded data removed]",
      "text/plain": [
       "<Figure size 432x288 with 1 Axes>"
      ]
     },
     "metadata": {
      "needs_background": "light"
     },
     "output_type": "display_data"
    }
   ],
   "source": [
    "plt.plot(test.index, test.TrainingLoad, 'b')\n",
    "plt.plot(test.index, test.ProjectLoad, 'g')\n",
    "plt.plot(test.index, test.DeptLoad, 'k')\n",
    "plt.plot(test.index, test.Slack, 'r')"
   ]
  },
  {
   "cell_type": "code",
   "execution_count": 47,
   "metadata": {},
   "outputs": [
    {
     "data": {
      "text/plain": [
       "Index(['ActiveProjects', 'RecentSuccessRate', 'SuccessfulProjects',\n",
       "       'FailedProjects', 'NullProjects', 'WorkersOnProjects',\n",
       "       'WorkersWithoutProjects', 'WorkersOnTraining', 'AverageTeamSize',\n",
       "       'AverageSuccessProbability', 'AverageWorkerOvr', 'AverageTeamOvr',\n",
       "       'WorkerTurnover', 'ProjectLoad', 'TrainingLoad', 'DeptLoad', 'Slack',\n",
       "       'ProjectsPerWorker'],\n",
       "      dtype='object')"
      ]
     },
     "execution_count": 47,
     "metadata": {},
     "output_type": "execute_result"
    }
   ],
   "source": [
    "test.columns"
   ]
  },
  {
   "cell_type": "code",
   "execution_count": null,
   "metadata": {},
   "outputs": [],
   "source": []
  }
 ],
 "metadata": {
  "kernelspec": {
   "display_name": "Python 3",
   "language": "python",
   "name": "python3"
  },
  "language_info": {
   "codemirror_mode": {
    "name": "ipython",
    "version": 3
   },
   "file_extension": ".py",
   "mimetype": "text/x-python",
   "name": "python",
   "nbconvert_exporter": "python",
   "pygments_lexer": "ipython3",
   "version": "3.7.4"
  }
 },
 "nbformat": 4,
 "nbformat_minor": 4
}
