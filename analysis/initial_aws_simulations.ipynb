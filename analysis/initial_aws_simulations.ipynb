{
 "cells": [
  {
   "cell_type": "markdown",
   "metadata": {},
   "source": [
    "#### Analysing the first lot of simulation that were run on AWS (01/03/2021).\n",
    "\n",
    "#### TODO:\n",
    "\n",
    "- ~~Prevent zero probabilites: if optimsation fails, use smart guess.~~\n",
    "- ~~Add data collector method for project start times and offsets.~~\n",
    "- Run diagnostic simulations x 2 without budgetary constraint (test no nulls w/o budget, test no zero probs after above change,test offset distributions - as expected?)\n",
    "- (Do niter=0 in parallel)\n",
    "- Make smart_guess respect budget constraints\n",
    "- Confirm that smart_step is respecting budget constraint\n",
    "- Write unit tests for optimiser (e.g. confirm all constraints are respected)\n",
    "- Add data collector method for budgets: plot distribution of budgets (relative).\n",
    "- Add any further data collectors required for testing hypotheses (e.g. save network)\n",
    "- Run simulations x 3 (with budgetary constraint)\n",
    "\n",
    "Questions:\n",
    "- Is the budget shown in the scatter plot the 'flexed' budget?\n",
    "- Is budget copied across (incuding flex) when using predefined projects?\n",
    "- Does a 1000 worker simulation take 56 hours on my new computer?!"
   ]
  },
  {
   "cell_type": "code",
   "execution_count": 1,
   "metadata": {},
   "outputs": [],
   "source": [
    "DATA_DIR = '../simulation_io/single_runs_010321/'"
   ]
  },
  {
   "cell_type": "code",
   "execution_count": 2,
   "metadata": {},
   "outputs": [],
   "source": [
    "import pickle\n",
    "import numpy as np\n",
    "import matplotlib.pyplot as plt\n",
    "%matplotlib inline"
   ]
  },
  {
   "cell_type": "code",
   "execution_count": 15,
   "metadata": {},
   "outputs": [],
   "source": [
    "with open(DATA_DIR + 'random_all_in/tracked_projects_wc_100_np_2_ts_100.pickle', 'rb') as ifile:\n",
    "    random = pickle.load(ifile)\n",
    "    \n",
    "with open(DATA_DIR + 'basin_w_timeline_flex/tracked_projects_wc_100_np_2_ts_100.pickle', 'rb') as ifile:\n",
    "    basin_w_flex = pickle.load(ifile)\n",
    "    \n",
    "with open(DATA_DIR + 'basin_wo_timeline_flex/tracked_projects_wc_100_np_2_ts_100.pickle', 'rb') as ifile:\n",
    "    basin_wo_flex = pickle.load(ifile)    "
   ]
  },
  {
   "cell_type": "code",
   "execution_count": 16,
   "metadata": {},
   "outputs": [
    {
     "data": {
      "text/html": [
       "<div>\n",
       "<style scoped>\n",
       "    .dataframe tbody tr th:only-of-type {\n",
       "        vertical-align: middle;\n",
       "    }\n",
       "\n",
       "    .dataframe tbody tr th {\n",
       "        vertical-align: top;\n",
       "    }\n",
       "\n",
       "    .dataframe thead th {\n",
       "        text-align: right;\n",
       "    }\n",
       "</style>\n",
       "<table border=\"1\" class=\"dataframe\">\n",
       "  <thead>\n",
       "    <tr style=\"text-align: right;\">\n",
       "      <th></th>\n",
       "      <th>project_id</th>\n",
       "      <th>prob</th>\n",
       "      <th>risk</th>\n",
       "      <th>budget</th>\n",
       "      <th>null</th>\n",
       "      <th>success</th>\n",
       "    </tr>\n",
       "  </thead>\n",
       "  <tbody>\n",
       "    <tr>\n",
       "      <th>0</th>\n",
       "      <td>0</td>\n",
       "      <td>0.000000</td>\n",
       "      <td>10</td>\n",
       "      <td>46.25</td>\n",
       "      <td>True</td>\n",
       "      <td>False</td>\n",
       "    </tr>\n",
       "    <tr>\n",
       "      <th>1</th>\n",
       "      <td>5</td>\n",
       "      <td>0.000000</td>\n",
       "      <td>10</td>\n",
       "      <td>67.00</td>\n",
       "      <td>True</td>\n",
       "      <td>False</td>\n",
       "    </tr>\n",
       "    <tr>\n",
       "      <th>2</th>\n",
       "      <td>7</td>\n",
       "      <td>0.000000</td>\n",
       "      <td>10</td>\n",
       "      <td>84.00</td>\n",
       "      <td>True</td>\n",
       "      <td>False</td>\n",
       "    </tr>\n",
       "    <tr>\n",
       "      <th>3</th>\n",
       "      <td>6</td>\n",
       "      <td>0.000000</td>\n",
       "      <td>5</td>\n",
       "      <td>53.75</td>\n",
       "      <td>True</td>\n",
       "      <td>False</td>\n",
       "    </tr>\n",
       "    <tr>\n",
       "      <th>4</th>\n",
       "      <td>1</td>\n",
       "      <td>0.371905</td>\n",
       "      <td>10</td>\n",
       "      <td>61.25</td>\n",
       "      <td>False</td>\n",
       "      <td>False</td>\n",
       "    </tr>\n",
       "    <tr>\n",
       "      <th>...</th>\n",
       "      <td>...</td>\n",
       "      <td>...</td>\n",
       "      <td>...</td>\n",
       "      <td>...</td>\n",
       "      <td>...</td>\n",
       "      <td>...</td>\n",
       "    </tr>\n",
       "    <tr>\n",
       "      <th>190</th>\n",
       "      <td>194</td>\n",
       "      <td>0.000000</td>\n",
       "      <td>10</td>\n",
       "      <td>34.00</td>\n",
       "      <td>True</td>\n",
       "      <td>False</td>\n",
       "    </tr>\n",
       "    <tr>\n",
       "      <th>191</th>\n",
       "      <td>188</td>\n",
       "      <td>0.447955</td>\n",
       "      <td>5</td>\n",
       "      <td>113.75</td>\n",
       "      <td>False</td>\n",
       "      <td>True</td>\n",
       "    </tr>\n",
       "    <tr>\n",
       "      <th>192</th>\n",
       "      <td>190</td>\n",
       "      <td>0.176397</td>\n",
       "      <td>25</td>\n",
       "      <td>67.00</td>\n",
       "      <td>False</td>\n",
       "      <td>True</td>\n",
       "    </tr>\n",
       "    <tr>\n",
       "      <th>193</th>\n",
       "      <td>199</td>\n",
       "      <td>0.000000</td>\n",
       "      <td>25</td>\n",
       "      <td>38.00</td>\n",
       "      <td>True</td>\n",
       "      <td>False</td>\n",
       "    </tr>\n",
       "    <tr>\n",
       "      <th>194</th>\n",
       "      <td>198</td>\n",
       "      <td>0.000000</td>\n",
       "      <td>5</td>\n",
       "      <td>55.00</td>\n",
       "      <td>True</td>\n",
       "      <td>False</td>\n",
       "    </tr>\n",
       "  </tbody>\n",
       "</table>\n",
       "<p>195 rows × 6 columns</p>\n",
       "</div>"
      ],
      "text/plain": [
       "     project_id      prob  risk  budget   null  success\n",
       "0             0  0.000000    10   46.25   True    False\n",
       "1             5  0.000000    10   67.00   True    False\n",
       "2             7  0.000000    10   84.00   True    False\n",
       "3             6  0.000000     5   53.75   True    False\n",
       "4             1  0.371905    10   61.25  False    False\n",
       "..          ...       ...   ...     ...    ...      ...\n",
       "190         194  0.000000    10   34.00   True    False\n",
       "191         188  0.447955     5  113.75  False     True\n",
       "192         190  0.176397    25   67.00  False     True\n",
       "193         199  0.000000    25   38.00   True    False\n",
       "194         198  0.000000     5   55.00   True    False\n",
       "\n",
       "[195 rows x 6 columns]"
      ]
     },
     "execution_count": 16,
     "metadata": {},
     "output_type": "execute_result"
    }
   ],
   "source": [
    "basin_w_flex"
   ]
  },
  {
   "cell_type": "code",
   "execution_count": 17,
   "metadata": {},
   "outputs": [
    {
     "name": "stdout",
     "output_type": "stream",
     "text": [
      "Fraction of null projects.\n",
      "Random:  0.17\n",
      "Basin with timeline flex:  0.59\n",
      "Basin without timeline flex:  0.66\n"
     ]
    }
   ],
   "source": [
    "print(\"Fraction of null projects.\")\n",
    "print(\"Random: \", np.round(sum(random.null) / len(random), 2))\n",
    "print(\"Basin with timeline flex: \", np.round(sum(basin_w_flex.null) / len(basin_w_flex), 2))\n",
    "print(\"Basin without timeline flex: \", np.round(sum(basin_wo_flex.null) / len(basin_wo_flex), 2))"
   ]
  },
  {
   "cell_type": "code",
   "execution_count": 18,
   "metadata": {},
   "outputs": [
    {
     "data": {
      "image/png": "[encoded data removed]",
      "text/plain": [
       "<Figure size 504x360 with 1 Axes>"
      ]
     },
     "metadata": {
      "needs_background": "light"
     },
     "output_type": "display_data"
    }
   ],
   "source": [
    "fs = 12\n",
    "ps = 5\n",
    "plt.figure(figsize=(7,5))\n",
    "plt.scatter(random.budget,\n",
    "            random.prob * random.risk,\n",
    "            label='random', color='green', s=ps)\n",
    "\n",
    "plt.scatter(basin_w_flex.budget,\n",
    "            basin_w_flex.prob * basin_w_flex.risk,\n",
    "            label='basin', color='blue', s=ps)\n",
    "\n",
    "plt.scatter(basin_wo_flex.budget,\n",
    "            basin_wo_flex.prob * basin_wo_flex.risk,\n",
    "            label='basin (no flex)', color='red', s=ps)\n",
    "\n",
    "plt.xlabel(\"project budget\", fontsize=fs)\n",
    "plt.ylabel(\"expected value (prob * risk)\", fontsize=fs)\n",
    "plt.title(\"All projects\")\n",
    "plt.legend();"
   ]
  },
  {
   "cell_type": "code",
   "execution_count": 7,
   "metadata": {},
   "outputs": [],
   "source": [
    "random = random.loc[~random.null]\n",
    "basin_w_flex = basin_w_flex.loc[~basin_w_flex.null]\n",
    "basin_wo_flex = basin_wo_flex.loc[~basin_wo_flex.null]"
   ]
  },
  {
   "cell_type": "code",
   "execution_count": 8,
   "metadata": {},
   "outputs": [
    {
     "data": {
      "image/png": "[encoded data removed]",
      "text/plain": [
       "<Figure size 432x288 with 1 Axes>"
      ]
     },
     "metadata": {
      "needs_background": "light"
     },
     "output_type": "display_data"
    }
   ],
   "source": [
    "fs = 15\n",
    "ps = 5\n",
    "plt.scatter(random.budget,\n",
    "            random.prob * random.risk,\n",
    "            label='random', color='green', s=ps)\n",
    "\n",
    "plt.scatter(basin_w_flex.budget,\n",
    "            basin_w_flex.prob * basin_w_flex.risk,\n",
    "            label='basin', color='blue', s=ps)\n",
    "\n",
    "plt.scatter(basin_wo_flex.budget,\n",
    "            basin_wo_flex.prob * basin_wo_flex.risk,\n",
    "            label='basin (no flex)', color='red', s=ps)\n",
    "\n",
    "plt.xlabel(\"project budget\", fontsize=fs)\n",
    "plt.ylabel(\"expected value (prob * risk)\", fontsize=fs)\n",
    "plt.title(\"Non-null projects only\")\n",
    "plt.legend();"
   ]
  },
  {
   "cell_type": "code",
   "execution_count": 9,
   "metadata": {},
   "outputs": [
    {
     "name": "stdout",
     "output_type": "stream",
     "text": [
      "Mean probability of success.\n",
      "Random:  0.07\n",
      "Basin with timeline flex:  0.4\n",
      "Basin without timeline flex:  0.42\n"
     ]
    }
   ],
   "source": [
    "print(\"Mean probability of success.\")\n",
    "print(\"Random: \", np.round(np.mean(random.prob), 2))\n",
    "print(\"Basin with timeline flex: \", np.round(np.mean(basin_w_flex.prob), 2))\n",
    "print(\"Basin without timeline flex: \", np.round(np.mean(basin_wo_flex.prob), 2))"
   ]
  },
  {
   "cell_type": "code",
   "execution_count": 10,
   "metadata": {},
   "outputs": [
    {
     "name": "stdout",
     "output_type": "stream",
     "text": [
      "Fraction of successful projects.\n",
      "Random:  0.04\n",
      "Basin with timeline flex:  0.33\n",
      "Basin without timeline flex:  0.46\n"
     ]
    }
   ],
   "source": [
    "print(\"Fraction of successful projects.\")\n",
    "print(\"Random: \", np.round(sum(random.success) / len(random), 2))\n",
    "print(\"Basin with timeline flex: \", np.round(sum(basin_w_flex.success) / len(basin_w_flex), 2))\n",
    "print(\"Basin without timeline flex: \", np.round(sum(basin_wo_flex.success) / len(basin_wo_flex), 2))"
   ]
  },
  {
   "cell_type": "code",
   "execution_count": 11,
   "metadata": {},
   "outputs": [
    {
     "data": {
      "image/png": "[encoded data removed]",
      "text/plain": [
       "<Figure size 432x288 with 1 Axes>"
      ]
     },
     "metadata": {
      "needs_background": "light"
     },
     "output_type": "display_data"
    }
   ],
   "source": [
    "plt.hist(random.prob, alpha=0.4, color='blue')\n",
    "plt.hist(basin_w_flex.prob, alpha=0.4, color='green')\n",
    "plt.hist(basin_wo_flex.prob, alpha=0.4, color='red');"
   ]
  },
  {
   "cell_type": "code",
   "execution_count": 12,
   "metadata": {},
   "outputs": [],
   "source": [
    "import random"
   ]
  },
  {
   "cell_type": "code",
   "execution_count": 13,
   "metadata": {},
   "outputs": [
    {
     "data": {
      "image/png": "[encoded data removed]",
      "text/plain": [
       "<Figure size 432x288 with 1 Axes>"
      ]
     },
     "metadata": {
      "needs_background": "light"
     },
     "output_type": "display_data"
    }
   ],
   "source": [
    "plt.hist([random.uniform(0.0, 1.0) for r in range(1000)]);"
   ]
  },
  {
   "cell_type": "code",
   "execution_count": 14,
   "metadata": {},
   "outputs": [
    {
     "data": {
      "text/plain": [
       "True"
      ]
     },
     "execution_count": 14,
     "metadata": {},
     "output_type": "execute_result"
    }
   ],
   "source": [
    "test = random.uniform(0.0, 1.0) < 0.5\n",
    "test"
   ]
  },
  {
   "cell_type": "code",
   "execution_count": null,
   "metadata": {},
   "outputs": [],
   "source": []
  }
 ],
 "metadata": {
  "kernelspec": {
   "display_name": "Python 3",
   "language": "python",
   "name": "python3"
  },
  "language_info": {
   "codemirror_mode": {
    "name": "ipython",
    "version": 3
   },
   "file_extension": ".py",
   "mimetype": "text/x-python",
   "name": "python",
   "nbconvert_exporter": "python",
   "pygments_lexer": "ipython3",
   "version": "3.8.5"
  }
 },
 "nbformat": 4,
 "nbformat_minor": 4
}
