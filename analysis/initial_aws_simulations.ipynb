{
 "cells": [
  {
   "cell_type": "markdown",
   "metadata": {},
   "source": [
    "#### Analysing the first lot of simulation that were run on AWS (01/03/2021).\n",
    "\n",
    "Note that these simulations were run with te pre-release version of the simulation code and so results may not be directly comparable with later simulations (although the differences will be minor)."
   ]
  },
  {
   "cell_type": "code",
   "execution_count": 95,
   "metadata": {},
   "outputs": [],
   "source": [
    "DATA_DIR = '../simulation_io/single_runs_070321//'"
   ]
  },
  {
   "cell_type": "code",
   "execution_count": 96,
   "metadata": {},
   "outputs": [],
   "source": [
    "import pickle\n",
    "import numpy as np\n",
    "import networkx as nx\n",
    "import matplotlib.pyplot as plt\n",
    "%matplotlib inline\n",
    "\n",
    "import os, sys\n",
    "MODEL_DIR = os.path.realpath(os.path.dirname('../superscript_model'))\n",
    "sys.path.append(os.path.normpath(MODEL_DIR))\n",
    "from superscript_model import model"
   ]
  },
  {
   "cell_type": "code",
   "execution_count": 10,
   "metadata": {},
   "outputs": [],
   "source": [
    "# net = nx.read_gpickle('../simulation_io/network_timestep_50.gpickle')\n",
    "# nx.draw(net, pos=nx.circular_layout(net))"
   ]
  },
  {
   "cell_type": "code",
   "execution_count": 98,
   "metadata": {},
   "outputs": [],
   "source": [
    "#net.nodes[2]['agent'][0].skills.hard_skills"
   ]
  },
  {
   "cell_type": "code",
   "execution_count": 99,
   "metadata": {},
   "outputs": [],
   "source": [
    "with open(DATA_DIR + 'random_all_in/tracked_projects_wc_100_np_2_ts_100.pickle', 'rb') as ifile:\n",
    "    random = pickle.load(ifile)\n",
    "    \n",
    "with open(DATA_DIR + 'basin_w_timeline_flex/tracked_projects_wc_100_np_2_ts_100.pickle', 'rb') as ifile:\n",
    "    basin_w_flex = pickle.load(ifile)\n",
    "    \n",
    "with open(DATA_DIR + 'basin_wo_timeline_flex/tracked_projects_wc_100_np_2_ts_100.pickle', 'rb') as ifile:\n",
    "    basin_wo_flex = pickle.load(ifile)    \n",
    "    \n",
    "# with open(DATA_DIR + 'random_wo_timeline_flex/tracked_projects_wc_100_np_2_ts_100.pickle', 'rb') as ifile:\n",
    "#     random_wo_flex = pickle.load(ifile)    "
   ]
  },
  {
   "cell_type": "code",
   "execution_count": 100,
   "metadata": {},
   "outputs": [
    {
     "data": {
      "text/html": [
       "<div>\n",
       "<style scoped>\n",
       "    .dataframe tbody tr th:only-of-type {\n",
       "        vertical-align: middle;\n",
       "    }\n",
       "\n",
       "    .dataframe tbody tr th {\n",
       "        vertical-align: top;\n",
       "    }\n",
       "\n",
       "    .dataframe thead th {\n",
       "        text-align: right;\n",
       "    }\n",
       "</style>\n",
       "<table border=\"1\" class=\"dataframe\">\n",
       "  <thead>\n",
       "    <tr style=\"text-align: right;\">\n",
       "      <th></th>\n",
       "      <th>project_id</th>\n",
       "      <th>prob</th>\n",
       "      <th>risk</th>\n",
       "      <th>budget</th>\n",
       "      <th>null</th>\n",
       "      <th>success</th>\n",
       "      <th>maximum_offset</th>\n",
       "      <th>realised_offset</th>\n",
       "      <th>start_time</th>\n",
       "      <th>ovr_prob_cpt</th>\n",
       "      <th>skill_balance_prob_cpt</th>\n",
       "      <th>creativity_match_prob_cpt</th>\n",
       "      <th>risk_prob_cpt</th>\n",
       "      <th>chemistry_prob_cpt</th>\n",
       "      <th>team_budget</th>\n",
       "      <th>team_ovr</th>\n",
       "      <th>team_creativity_match</th>\n",
       "      <th>team_size</th>\n",
       "    </tr>\n",
       "  </thead>\n",
       "  <tbody>\n",
       "    <tr>\n",
       "      <th>0</th>\n",
       "      <td>3</td>\n",
       "      <td>0.000000</td>\n",
       "      <td>5</td>\n",
       "      <td>12.00</td>\n",
       "      <td>True</td>\n",
       "      <td>False</td>\n",
       "      <td>0</td>\n",
       "      <td>0</td>\n",
       "      <td>1</td>\n",
       "      <td>0.000000</td>\n",
       "      <td>0.000000</td>\n",
       "      <td>10.000000</td>\n",
       "      <td>3.75</td>\n",
       "      <td>0.00</td>\n",
       "      <td>NaN</td>\n",
       "      <td>NaN</td>\n",
       "      <td>NaN</td>\n",
       "      <td>NaN</td>\n",
       "    </tr>\n",
       "    <tr>\n",
       "      <th>1</th>\n",
       "      <td>6</td>\n",
       "      <td>0.000000</td>\n",
       "      <td>25</td>\n",
       "      <td>19.00</td>\n",
       "      <td>True</td>\n",
       "      <td>False</td>\n",
       "      <td>0</td>\n",
       "      <td>0</td>\n",
       "      <td>3</td>\n",
       "      <td>0.000000</td>\n",
       "      <td>0.000000</td>\n",
       "      <td>10.000000</td>\n",
       "      <td>3.75</td>\n",
       "      <td>0.00</td>\n",
       "      <td>NaN</td>\n",
       "      <td>NaN</td>\n",
       "      <td>NaN</td>\n",
       "      <td>NaN</td>\n",
       "    </tr>\n",
       "    <tr>\n",
       "      <th>2</th>\n",
       "      <td>8</td>\n",
       "      <td>0.000000</td>\n",
       "      <td>10</td>\n",
       "      <td>11.00</td>\n",
       "      <td>True</td>\n",
       "      <td>False</td>\n",
       "      <td>0</td>\n",
       "      <td>0</td>\n",
       "      <td>4</td>\n",
       "      <td>0.000000</td>\n",
       "      <td>0.000000</td>\n",
       "      <td>10.000000</td>\n",
       "      <td>3.75</td>\n",
       "      <td>0.00</td>\n",
       "      <td>NaN</td>\n",
       "      <td>NaN</td>\n",
       "      <td>NaN</td>\n",
       "      <td>NaN</td>\n",
       "    </tr>\n",
       "    <tr>\n",
       "      <th>3</th>\n",
       "      <td>9</td>\n",
       "      <td>0.000000</td>\n",
       "      <td>5</td>\n",
       "      <td>13.00</td>\n",
       "      <td>True</td>\n",
       "      <td>False</td>\n",
       "      <td>1</td>\n",
       "      <td>1</td>\n",
       "      <td>5</td>\n",
       "      <td>0.000000</td>\n",
       "      <td>0.000000</td>\n",
       "      <td>10.000000</td>\n",
       "      <td>3.75</td>\n",
       "      <td>0.00</td>\n",
       "      <td>NaN</td>\n",
       "      <td>NaN</td>\n",
       "      <td>NaN</td>\n",
       "      <td>NaN</td>\n",
       "    </tr>\n",
       "    <tr>\n",
       "      <th>4</th>\n",
       "      <td>0</td>\n",
       "      <td>0.000000</td>\n",
       "      <td>25</td>\n",
       "      <td>100.00</td>\n",
       "      <td>False</td>\n",
       "      <td>False</td>\n",
       "      <td>2</td>\n",
       "      <td>2</td>\n",
       "      <td>2</td>\n",
       "      <td>31.130665</td>\n",
       "      <td>-20.168277</td>\n",
       "      <td>-29.999907</td>\n",
       "      <td>-15.00</td>\n",
       "      <td>5.00</td>\n",
       "      <td>66.412085</td>\n",
       "      <td>41.507553</td>\n",
       "      <td>12.968760</td>\n",
       "      <td>7.0</td>\n",
       "    </tr>\n",
       "    <tr>\n",
       "      <th>...</th>\n",
       "      <td>...</td>\n",
       "      <td>...</td>\n",
       "      <td>...</td>\n",
       "      <td>...</td>\n",
       "      <td>...</td>\n",
       "      <td>...</td>\n",
       "      <td>...</td>\n",
       "      <td>...</td>\n",
       "      <td>...</td>\n",
       "      <td>...</td>\n",
       "      <td>...</td>\n",
       "      <td>...</td>\n",
       "      <td>...</td>\n",
       "      <td>...</td>\n",
       "      <td>...</td>\n",
       "      <td>...</td>\n",
       "      <td>...</td>\n",
       "      <td>...</td>\n",
       "    </tr>\n",
       "    <tr>\n",
       "      <th>187</th>\n",
       "      <td>187</td>\n",
       "      <td>0.000000</td>\n",
       "      <td>5</td>\n",
       "      <td>61.00</td>\n",
       "      <td>False</td>\n",
       "      <td>False</td>\n",
       "      <td>0</td>\n",
       "      <td>0</td>\n",
       "      <td>93</td>\n",
       "      <td>32.059884</td>\n",
       "      <td>-7.944827</td>\n",
       "      <td>-29.997355</td>\n",
       "      <td>0.00</td>\n",
       "      <td>3.75</td>\n",
       "      <td>38.471860</td>\n",
       "      <td>42.746511</td>\n",
       "      <td>9.623820</td>\n",
       "      <td>6.0</td>\n",
       "    </tr>\n",
       "    <tr>\n",
       "      <th>188</th>\n",
       "      <td>184</td>\n",
       "      <td>0.038645</td>\n",
       "      <td>25</td>\n",
       "      <td>88.75</td>\n",
       "      <td>False</td>\n",
       "      <td>False</td>\n",
       "      <td>1</td>\n",
       "      <td>1</td>\n",
       "      <td>93</td>\n",
       "      <td>38.392732</td>\n",
       "      <td>-10.158664</td>\n",
       "      <td>-14.369601</td>\n",
       "      <td>-15.00</td>\n",
       "      <td>5.00</td>\n",
       "      <td>43.511763</td>\n",
       "      <td>51.190310</td>\n",
       "      <td>0.939662</td>\n",
       "      <td>6.0</td>\n",
       "    </tr>\n",
       "    <tr>\n",
       "      <th>189</th>\n",
       "      <td>188</td>\n",
       "      <td>0.192220</td>\n",
       "      <td>10</td>\n",
       "      <td>37.00</td>\n",
       "      <td>False</td>\n",
       "      <td>False</td>\n",
       "      <td>0</td>\n",
       "      <td>0</td>\n",
       "      <td>94</td>\n",
       "      <td>51.236924</td>\n",
       "      <td>-3.267660</td>\n",
       "      <td>-29.997288</td>\n",
       "      <td>-3.75</td>\n",
       "      <td>5.00</td>\n",
       "      <td>27.326360</td>\n",
       "      <td>68.315899</td>\n",
       "      <td>9.598915</td>\n",
       "      <td>7.0</td>\n",
       "    </tr>\n",
       "    <tr>\n",
       "      <th>190</th>\n",
       "      <td>185</td>\n",
       "      <td>0.000000</td>\n",
       "      <td>10</td>\n",
       "      <td>67.00</td>\n",
       "      <td>False</td>\n",
       "      <td>False</td>\n",
       "      <td>2</td>\n",
       "      <td>2</td>\n",
       "      <td>94</td>\n",
       "      <td>25.121364</td>\n",
       "      <td>-17.007413</td>\n",
       "      <td>-17.306157</td>\n",
       "      <td>-3.75</td>\n",
       "      <td>5.00</td>\n",
       "      <td>33.495152</td>\n",
       "      <td>33.495152</td>\n",
       "      <td>1.147762</td>\n",
       "      <td>4.0</td>\n",
       "    </tr>\n",
       "    <tr>\n",
       "      <th>191</th>\n",
       "      <td>190</td>\n",
       "      <td>0.000000</td>\n",
       "      <td>10</td>\n",
       "      <td>65.00</td>\n",
       "      <td>False</td>\n",
       "      <td>False</td>\n",
       "      <td>0</td>\n",
       "      <td>0</td>\n",
       "      <td>95</td>\n",
       "      <td>15.843442</td>\n",
       "      <td>-12.074981</td>\n",
       "      <td>-22.312645</td>\n",
       "      <td>-3.75</td>\n",
       "      <td>5.00</td>\n",
       "      <td>22.180819</td>\n",
       "      <td>21.124590</td>\n",
       "      <td>1.649303</td>\n",
       "      <td>4.0</td>\n",
       "    </tr>\n",
       "  </tbody>\n",
       "</table>\n",
       "<p>192 rows × 18 columns</p>\n",
       "</div>"
      ],
      "text/plain": [
       "     project_id      prob  risk  budget   null  success  maximum_offset  \\\n",
       "0             3  0.000000     5   12.00   True    False               0   \n",
       "1             6  0.000000    25   19.00   True    False               0   \n",
       "2             8  0.000000    10   11.00   True    False               0   \n",
       "3             9  0.000000     5   13.00   True    False               1   \n",
       "4             0  0.000000    25  100.00  False    False               2   \n",
       "..          ...       ...   ...     ...    ...      ...             ...   \n",
       "187         187  0.000000     5   61.00  False    False               0   \n",
       "188         184  0.038645    25   88.75  False    False               1   \n",
       "189         188  0.192220    10   37.00  False    False               0   \n",
       "190         185  0.000000    10   67.00  False    False               2   \n",
       "191         190  0.000000    10   65.00  False    False               0   \n",
       "\n",
       "     realised_offset  start_time  ovr_prob_cpt  skill_balance_prob_cpt  \\\n",
       "0                  0           1      0.000000                0.000000   \n",
       "1                  0           3      0.000000                0.000000   \n",
       "2                  0           4      0.000000                0.000000   \n",
       "3                  1           5      0.000000                0.000000   \n",
       "4                  2           2     31.130665              -20.168277   \n",
       "..               ...         ...           ...                     ...   \n",
       "187                0          93     32.059884               -7.944827   \n",
       "188                1          93     38.392732              -10.158664   \n",
       "189                0          94     51.236924               -3.267660   \n",
       "190                2          94     25.121364              -17.007413   \n",
       "191                0          95     15.843442              -12.074981   \n",
       "\n",
       "     creativity_match_prob_cpt  risk_prob_cpt  chemistry_prob_cpt  \\\n",
       "0                    10.000000           3.75                0.00   \n",
       "1                    10.000000           3.75                0.00   \n",
       "2                    10.000000           3.75                0.00   \n",
       "3                    10.000000           3.75                0.00   \n",
       "4                   -29.999907         -15.00                5.00   \n",
       "..                         ...            ...                 ...   \n",
       "187                 -29.997355           0.00                3.75   \n",
       "188                 -14.369601         -15.00                5.00   \n",
       "189                 -29.997288          -3.75                5.00   \n",
       "190                 -17.306157          -3.75                5.00   \n",
       "191                 -22.312645          -3.75                5.00   \n",
       "\n",
       "     team_budget   team_ovr  team_creativity_match  team_size  \n",
       "0            NaN        NaN                    NaN        NaN  \n",
       "1            NaN        NaN                    NaN        NaN  \n",
       "2            NaN        NaN                    NaN        NaN  \n",
       "3            NaN        NaN                    NaN        NaN  \n",
       "4      66.412085  41.507553              12.968760        7.0  \n",
       "..           ...        ...                    ...        ...  \n",
       "187    38.471860  42.746511               9.623820        6.0  \n",
       "188    43.511763  51.190310               0.939662        6.0  \n",
       "189    27.326360  68.315899               9.598915        7.0  \n",
       "190    33.495152  33.495152               1.147762        4.0  \n",
       "191    22.180819  21.124590               1.649303        4.0  \n",
       "\n",
       "[192 rows x 18 columns]"
      ]
     },
     "execution_count": 100,
     "metadata": {},
     "output_type": "execute_result"
    }
   ],
   "source": [
    "random"
   ]
  },
  {
   "cell_type": "code",
   "execution_count": 101,
   "metadata": {},
   "outputs": [
    {
     "data": {
      "text/plain": [
       "(array([102.,   0.,  52.,   0.,   0.,  24.,   0.,   9.,   0.,   5.]),\n",
       " array([0. , 0.4, 0.8, 1.2, 1.6, 2. , 2.4, 2.8, 3.2, 3.6, 4. ]),\n",
       " <BarContainer object of 10 artists>)"
      ]
     },
     "execution_count": 101,
     "metadata": {},
     "output_type": "execute_result"
    },
    {
     "data": {
      "image/png": "[encoded data removed]",
      "text/plain": [
       "<Figure size 432x288 with 1 Axes>"
      ]
     },
     "metadata": {
      "needs_background": "light"
     },
     "output_type": "display_data"
    }
   ],
   "source": [
    "plt.hist(random.realised_offset);"
   ]
  },
  {
   "cell_type": "code",
   "execution_count": 102,
   "metadata": {},
   "outputs": [],
   "source": [
    "assert all(random.realised_offset == random.maximum_offset)"
   ]
  },
  {
   "cell_type": "code",
   "execution_count": 103,
   "metadata": {},
   "outputs": [
    {
     "data": {
      "image/png": "[encoded data removed]",
      "text/plain": [
       "<Figure size 432x288 with 2 Axes>"
      ]
     },
     "metadata": {
      "needs_background": "light"
     },
     "output_type": "display_data"
    }
   ],
   "source": [
    "plt.subplot(1,2,1)\n",
    "plt.hist(basin_w_flex.realised_offset)\n",
    "plt.subplot(1,2,2)\n",
    "plt.hist(basin_w_flex.maximum_offset);"
   ]
  },
  {
   "cell_type": "code",
   "execution_count": 104,
   "metadata": {},
   "outputs": [
    {
     "data": {
      "image/png": "[encoded data removed]",
      "text/plain": [
       "<Figure size 432x288 with 2 Axes>"
      ]
     },
     "metadata": {
      "needs_background": "light"
     },
     "output_type": "display_data"
    }
   ],
   "source": [
    "plt.subplot(1,2,1)\n",
    "plt.hist(basin_wo_flex.realised_offset)\n",
    "plt.subplot(1,2,2)\n",
    "plt.hist(basin_wo_flex.maximum_offset);"
   ]
  },
  {
   "cell_type": "code",
   "execution_count": 105,
   "metadata": {},
   "outputs": [
    {
     "name": "stdout",
     "output_type": "stream",
     "text": [
      "Fraction of null projects.\n",
      "Random:  0.16\n",
      "Basin with timeline flex:  0.01\n",
      "Basin without timeline flex:  0.01\n"
     ]
    }
   ],
   "source": [
    "print(\"Fraction of null projects.\")\n",
    "print(\"Random: \", np.round(sum(random.null) / len(random), 2))\n",
    "print(\"Basin with timeline flex: \", np.round(sum(basin_w_flex.null) / len(basin_w_flex), 2))\n",
    "print(\"Basin without timeline flex: \", np.round(sum(basin_wo_flex.null) / len(basin_wo_flex), 2))"
   ]
  },
  {
   "cell_type": "code",
   "execution_count": 106,
   "metadata": {},
   "outputs": [
    {
     "data": {
      "image/png": "[encoded data removed]",
      "text/plain": [
       "<Figure size 504x360 with 1 Axes>"
      ]
     },
     "metadata": {
      "needs_background": "light"
     },
     "output_type": "display_data"
    }
   ],
   "source": [
    "fs = 12\n",
    "ps = 5\n",
    "plt.figure(figsize=(7,5))\n",
    "plt.scatter(random.budget,\n",
    "            random.prob * random.risk,\n",
    "            label='random', color='green', s=ps)\n",
    "\n",
    "plt.scatter(basin_w_flex.budget,\n",
    "            basin_w_flex.prob * basin_w_flex.risk,\n",
    "            label='basin', color='blue', s=ps)\n",
    "\n",
    "plt.scatter(basin_wo_flex.budget,\n",
    "            basin_wo_flex.prob * basin_wo_flex.risk,\n",
    "            label='basin (no flex)', color='red', s=ps)\n",
    "\n",
    "plt.xlabel(\"project budget\", fontsize=fs)\n",
    "plt.ylabel(\"expected value (prob * risk)\", fontsize=fs)\n",
    "plt.title(\"All projects\")\n",
    "plt.legend();"
   ]
  },
  {
   "cell_type": "code",
   "execution_count": 109,
   "metadata": {},
   "outputs": [
    {
     "data": {
      "image/png": "[encoded data removed]",
      "text/plain": [
       "<Figure size 504x360 with 1 Axes>"
      ]
     },
     "metadata": {
      "needs_background": "light"
     },
     "output_type": "display_data"
    }
   ],
   "source": [
    "from scipy.stats import linregress\n",
    "\n",
    "fs = 12\n",
    "ps = 5\n",
    "\n",
    "\n",
    "plt.figure(figsize=(7,5))\n",
    "x = random.budget\n",
    "y = random.prob * random.risk\n",
    "slope, intercept, r_value, p_value, std_err = linregress(x, y)\n",
    "plt.scatter(x,\n",
    "            y,\n",
    "            label='random (r=%.2f' % r_value, color='green', s=ps)\n",
    "plt.plot(x, x*slope + intercept, color='green')\n",
    "\n",
    "x = basin_w_flex.budget\n",
    "y = basin_w_flex.prob * basin_w_flex.risk\n",
    "slope, intercept, r_value, p_value, std_err = linregress(x, y)\n",
    "plt.scatter(x,\n",
    "            y,\n",
    "            label='basin (r=%.2f' % r_value, color='blue', s=ps)\n",
    "plt.plot(x, x*slope + intercept, color='blue')\n",
    "\n",
    "x = basin_wo_flex.budget\n",
    "y = basin_wo_flex.prob * basin_wo_flex.risk\n",
    "slope, intercept, r_value, p_value, std_err = linregress(x, y)\n",
    "plt.scatter(x,\n",
    "            y,\n",
    "            label='basin no flex (r=%.2f)' % r_value, color='red', s=ps)\n",
    "plt.plot(x, x*slope + intercept, color='red')\n",
    "\n",
    "\n",
    "plt.xlabel(\"project budget\", fontsize=fs)\n",
    "plt.ylabel(\"expected value (prob * risk)\", fontsize=fs)\n",
    "plt.title(\"All projects\")\n",
    "plt.legend();"
   ]
  },
  {
   "cell_type": "code",
   "execution_count": 141,
   "metadata": {},
   "outputs": [],
   "source": [
    "random = random.loc[~random.null]\n",
    "basin_w_flex = basin_w_flex.loc[~basin_w_flex.null]\n",
    "basin_wo_flex = basin_wo_flex.loc[~basin_wo_flex.null]"
   ]
  },
  {
   "cell_type": "code",
   "execution_count": 142,
   "metadata": {},
   "outputs": [],
   "source": [
    "# fs = 15\n",
    "# ps = 5\n",
    "# plt.scatter(random.budget,\n",
    "#             random.prob * random.risk,\n",
    "#             label='random', color='green', s=ps)\n",
    "\n",
    "# plt.scatter(basin_w_flex.budget,\n",
    "#             basin_w_flex.prob * basin_w_flex.risk,\n",
    "#             label='basin', color='blue', s=ps)\n",
    "\n",
    "# plt.scatter(basin_wo_flex.budget,\n",
    "#             basin_wo_flex.prob * basin_wo_flex.risk,\n",
    "#             label='basin (no flex)', color='red', s=ps)\n",
    "\n",
    "# plt.xlabel(\"project budget\", fontsize=fs)\n",
    "# plt.ylabel(\"expected value (prob * risk)\", fontsize=fs)\n",
    "# plt.title(\"Non-null projects only\")\n",
    "# plt.legend();"
   ]
  },
  {
   "cell_type": "code",
   "execution_count": 143,
   "metadata": {},
   "outputs": [
    {
     "name": "stdout",
     "output_type": "stream",
     "text": [
      "Mean probability of success.\n",
      "Random:  0.06\n",
      "Basin with timeline flex:  0.36\n",
      "Basin without timeline flex:  0.37\n"
     ]
    }
   ],
   "source": [
    "print(\"Mean probability of success.\")\n",
    "print(\"Random: \", np.round(np.mean(random.prob), 2))\n",
    "print(\"Basin with timeline flex: \", np.round(np.mean(basin_w_flex.prob), 2))\n",
    "print(\"Basin without timeline flex: \", np.round(np.mean(basin_wo_flex.prob), 2))"
   ]
  },
  {
   "cell_type": "code",
   "execution_count": 144,
   "metadata": {},
   "outputs": [
    {
     "name": "stdout",
     "output_type": "stream",
     "text": [
      "Fraction of successful projects.\n",
      "Random:  0.06\n",
      "Basin with timeline flex:  0.33\n",
      "Basin without timeline flex:  0.35\n"
     ]
    }
   ],
   "source": [
    "print(\"Fraction of successful projects.\")\n",
    "print(\"Random: \", np.round(sum(random.success) / len(random), 2))\n",
    "print(\"Basin with timeline flex: \", np.round(sum(basin_w_flex.success) / len(basin_w_flex), 2))\n",
    "print(\"Basin without timeline flex: \", np.round(sum(basin_wo_flex.success) / len(basin_wo_flex), 2))"
   ]
  },
  {
   "cell_type": "code",
   "execution_count": 145,
   "metadata": {},
   "outputs": [
    {
     "data": {
      "image/png": "[encoded data removed]",
      "text/plain": [
       "<Figure size 432x288 with 1 Axes>"
      ]
     },
     "metadata": {
      "needs_background": "light"
     },
     "output_type": "display_data"
    }
   ],
   "source": [
    "plt.hist(random.prob, alpha=0.4, color='blue')\n",
    "plt.hist(basin_w_flex.prob, alpha=0.4, color='green')\n",
    "plt.hist(basin_wo_flex.prob, alpha=0.4, color='red');"
   ]
  },
  {
   "cell_type": "markdown",
   "metadata": {},
   "source": [
    "#### Project-wise comparison:"
   ]
  },
  {
   "cell_type": "code",
   "execution_count": 167,
   "metadata": {},
   "outputs": [
    {
     "name": "stdout",
     "output_type": "stream",
     "text": [
      "0.5235602094240838\n"
     ]
    }
   ],
   "source": [
    "fraction_better = 0\n",
    "for p in basin_w_flex.project_id:\n",
    "    if p in list(basin_wo_flex.project_id):\n",
    "        if float(basin_w_flex.loc[basin_w_flex.project_id==p].prob) >= float(basin_wo_flex.loc[basin_wo_flex.project_id==p].prob):\n",
    "            fraction_better += 1\n",
    "        \n",
    "fraction_better /= len(basin_w_flex)\n",
    "print(fraction_better)"
   ]
  },
  {
   "cell_type": "markdown",
   "metadata": {},
   "source": [
    "### Testing the hypotheses:\n",
    "\n",
    "#### a) High risk projects (high stake) attract talent (high OVR)\n",
    "\n",
    "Note: we should look at individual worker OVRs..."
   ]
  },
  {
   "cell_type": "code",
   "execution_count": 292,
   "metadata": {},
   "outputs": [
    {
     "data": {
      "image/png": "[encoded data removed]",
      "text/plain": [
       "<Figure size 936x288 with 2 Axes>"
      ]
     },
     "metadata": {
      "needs_background": "light"
     },
     "output_type": "display_data"
    }
   ],
   "source": [
    "av = np.median\n",
    "alph = 0.5\n",
    "\n",
    "c1 = 'lightcoral'\n",
    "c2 = 'darkcyan'\n",
    "c3 = 'darkslateblue'\n",
    "\n",
    "plt.figure(figsize=(13,4))\n",
    "plt.subplot(1,2,1)\n",
    "plt.hist(random.loc[random.risk==5].team_ovr, alpha=alph, color=c1)\n",
    "plt.hist(random.loc[random.risk==10].team_ovr, alpha=alph, color=c2)\n",
    "plt.hist(random.loc[random.risk==25].team_ovr, alpha=alph, color=c3)\n",
    "plt.axvline(av(random.loc[random.risk==5].team_ovr), color=c1, label='risk = 5')\n",
    "plt.axvline(av(random.loc[random.risk==10].team_ovr), color=c2, label='risk = 10')\n",
    "plt.axvline(av(random.loc[random.risk==25].team_ovr), color=c3, label='risk = 25')\n",
    "plt.xlabel('team ovr')\n",
    "plt.ylabel('frequency')\n",
    "plt.title('random')\n",
    "\n",
    "\n",
    "plt.subplot(1,2,2)\n",
    "plt.hist(basin_w_flex.loc[basin_w_flex.risk==5].team_ovr, alpha=alph, color=c1)\n",
    "plt.hist(basin_w_flex.loc[basin_w_flex.risk==10].team_ovr, alpha=alph, color=c2)\n",
    "plt.hist(basin_w_flex.loc[basin_w_flex.risk==25].team_ovr, alpha=alph, color=c3)\n",
    "plt.axvline(av(basin_w_flex.loc[basin_w_flex.risk==5].team_ovr), color=c1, label='risk = 5')\n",
    "plt.axvline(av(basin_w_flex.loc[basin_w_flex.risk==10].team_ovr), color=c2, label='risk = 10')\n",
    "plt.axvline(av(basin_w_flex.loc[basin_w_flex.risk==25].team_ovr), color=c3, label='risk = 25')\n",
    "plt.legend()\n",
    "plt.xlabel('team ovr')\n",
    "plt.title('basin_w_flex');"
   ]
  },
  {
   "cell_type": "markdown",
   "metadata": {},
   "source": [
    "#### b) Cognitively diverse teams have higher success rate than randomly selected teams"
   ]
  },
  {
   "cell_type": "code",
   "execution_count": 214,
   "metadata": {},
   "outputs": [
    {
     "data": {
      "image/png": "[encoded data removed]",
      "text/plain": [
       "<Figure size 432x288 with 1 Axes>"
      ]
     },
     "metadata": {
      "needs_background": "light"
     },
     "output_type": "display_data"
    }
   ],
   "source": [
    "alpha=0.5\n",
    "av = np.mean\n",
    "\n",
    "plt.hist(basin_w_flex.loc[basin_w_flex.success==True].team_creativity_match, color=c3, alpha=alph, bins=50)\n",
    "plt.axvline(av(basin_w_flex.loc[basin_w_flex.success==True].team_creativity_match), color=c3, alpha=alph, label='success')\n",
    "\n",
    "plt.hist(basin_w_flex.loc[basin_w_flex.success==False].team_creativity_match, color=c2, alpha=alph, bins=50)\n",
    "plt.axvline(av(basin_w_flex.loc[basin_w_flex.success==False].team_creativity_match), color=c2, alpha=alph, label='fail')\n",
    "\n",
    "plt.legend()\n",
    "\n",
    "plt.yscale('log');"
   ]
  },
  {
   "cell_type": "code",
   "execution_count": 293,
   "metadata": {},
   "outputs": [
    {
     "data": {
      "image/png": "[encoded data removed]",
      "text/plain": [
       "<Figure size 432x288 with 1 Axes>"
      ]
     },
     "metadata": {
      "needs_background": "light"
     },
     "output_type": "display_data"
    }
   ],
   "source": [
    "plt.scatter(basin_w_flex.team_creativity_match, basin_w_flex.prob)\n",
    "plt.xscale('log')\n",
    "plt.xlabel('creativity match')\n",
    "plt.ylabel('probability');"
   ]
  },
  {
   "cell_type": "markdown",
   "metadata": {},
   "source": [
    "#### c) Superstars emerge, i.e., workers who get over-proportionally selected to work in high stake projects, and, on the other hand, workers with low OVR are stuck with departmental workload and, over time, get replaced by new workers"
   ]
  },
  {
   "cell_type": "code",
   "execution_count": 229,
   "metadata": {},
   "outputs": [],
   "source": [
    "with open(DATA_DIR + 'basin_w_timeline_flex/tracked_agents_wc_100_np_2_ts_100.pickle', 'rb') as ifile:\n",
    "    agent_vars = pickle.load(ifile)"
   ]
  },
  {
   "cell_type": "code",
   "execution_count": 245,
   "metadata": {},
   "outputs": [],
   "source": [
    "workers = set(agent_vars.index.get_level_values('AgentID'))"
   ]
  },
  {
   "cell_type": "code",
   "execution_count": 252,
   "metadata": {},
   "outputs": [
    {
     "data": {
      "text/html": [
       "<div>\n",
       "<style scoped>\n",
       "    .dataframe tbody tr th:only-of-type {\n",
       "        vertical-align: middle;\n",
       "    }\n",
       "\n",
       "    .dataframe tbody tr th {\n",
       "        vertical-align: top;\n",
       "    }\n",
       "\n",
       "    .dataframe thead th {\n",
       "        text-align: right;\n",
       "    }\n",
       "</style>\n",
       "<table border=\"1\" class=\"dataframe\">\n",
       "  <thead>\n",
       "    <tr style=\"text-align: right;\">\n",
       "      <th></th>\n",
       "      <th></th>\n",
       "      <th>now</th>\n",
       "      <th>contributes</th>\n",
       "      <th>ovr</th>\n",
       "      <th>hard_skills</th>\n",
       "      <th>training</th>\n",
       "      <th>skill_decay</th>\n",
       "      <th>peer_assessment</th>\n",
       "    </tr>\n",
       "    <tr>\n",
       "      <th>Step</th>\n",
       "      <th>AgentID</th>\n",
       "      <th></th>\n",
       "      <th></th>\n",
       "      <th></th>\n",
       "      <th></th>\n",
       "      <th></th>\n",
       "      <th></th>\n",
       "      <th></th>\n",
       "    </tr>\n",
       "  </thead>\n",
       "  <tbody>\n",
       "    <tr>\n",
       "      <th>1</th>\n",
       "      <th>0</th>\n",
       "      <td>1</td>\n",
       "      <td>{2: {'A': [5], 'B': [5], 'C': [], 'D': [5], 'E...</td>\n",
       "      <td>49.145450</td>\n",
       "      <td>{'A': 4.95, 'B': 4.95, 'C': 0.0, 'D': 0.962727...</td>\n",
       "      <td>{'A': 0, 'B': 0, 'C': 0, 'D': 0, 'E': 0}</td>\n",
       "      <td>{'A': -0.04999999999999982, 'B': -0.0499999999...</td>\n",
       "      <td>{'A': 0, 'B': 0, 'C': 0, 'D': 0, 'E': 0}</td>\n",
       "    </tr>\n",
       "    <tr>\n",
       "      <th>2</th>\n",
       "      <th>0</th>\n",
       "      <td>2</td>\n",
       "      <td>{2: {'A': [5], 'B': [5], 'C': [], 'D': [5], 'E...</td>\n",
       "      <td>48.653996</td>\n",
       "      <td>{'A': 4.95, 'B': 4.95, 'C': 0.0, 'D': 0.962727...</td>\n",
       "      <td>{'A': 0, 'B': 0, 'C': 0, 'D': 0, 'E': 0}</td>\n",
       "      <td>{'A': -0.04999999999999982, 'B': -0.0499999999...</td>\n",
       "      <td>{'A': 0, 'B': 0, 'C': 0, 'D': 0, 'E': 0}</td>\n",
       "    </tr>\n",
       "    <tr>\n",
       "      <th>3</th>\n",
       "      <th>0</th>\n",
       "      <td>3</td>\n",
       "      <td>{2: {'A': [5], 'B': [5], 'C': [], 'D': [5], 'E...</td>\n",
       "      <td>48.653996</td>\n",
       "      <td>{'A': 4.95, 'B': 4.95, 'C': 0.0, 'D': 0.962727...</td>\n",
       "      <td>{'A': 0, 'B': 0, 'C': 0, 'D': 0, 'E': 0}</td>\n",
       "      <td>{'A': -0.04999999999999982, 'B': -0.0499999999...</td>\n",
       "      <td>{'A': 0, 'B': 0, 'C': 0, 'D': 0, 'E': 0}</td>\n",
       "    </tr>\n",
       "    <tr>\n",
       "      <th>4</th>\n",
       "      <th>0</th>\n",
       "      <td>4</td>\n",
       "      <td>{2: {'A': [5], 'B': [5], 'C': [], 'D': [5], 'E...</td>\n",
       "      <td>48.653996</td>\n",
       "      <td>{'A': 4.95, 'B': 4.95, 'C': 0.0, 'D': 0.962727...</td>\n",
       "      <td>{'A': 0, 'B': 0, 'C': 0, 'D': 0, 'E': 0}</td>\n",
       "      <td>{'A': -0.04999999999999982, 'B': -0.0499999999...</td>\n",
       "      <td>{'A': 0, 'B': 0, 'C': 0, 'D': 0, 'E': 0}</td>\n",
       "    </tr>\n",
       "    <tr>\n",
       "      <th>5</th>\n",
       "      <th>0</th>\n",
       "      <td>5</td>\n",
       "      <td>{2: {'A': [5], 'B': [5], 'C': [], 'D': [5], 'E...</td>\n",
       "      <td>48.653996</td>\n",
       "      <td>{'A': 4.95, 'B': 4.95, 'C': 0.0, 'D': 0.962727...</td>\n",
       "      <td>{'A': 0, 'B': 0, 'C': 0, 'D': 0, 'E': 0}</td>\n",
       "      <td>{'A': -0.04999999999999982, 'B': -0.0499999999...</td>\n",
       "      <td>{'A': 0, 'B': 0, 'C': 0, 'D': 0, 'E': 0}</td>\n",
       "    </tr>\n",
       "    <tr>\n",
       "      <th>...</th>\n",
       "      <th>...</th>\n",
       "      <td>...</td>\n",
       "      <td>...</td>\n",
       "      <td>...</td>\n",
       "      <td>...</td>\n",
       "      <td>...</td>\n",
       "      <td>...</td>\n",
       "      <td>...</td>\n",
       "    </tr>\n",
       "    <tr>\n",
       "      <th>96</th>\n",
       "      <th>0</th>\n",
       "      <td>96</td>\n",
       "      <td>{2: {'A': [5], 'B': [5], 'C': [], 'D': [5], 'E...</td>\n",
       "      <td>72.276383</td>\n",
       "      <td>{'A': 4.95, 'B': 4.95, 'C': 0.0, 'D': 0.962727...</td>\n",
       "      <td>{'A': 0, 'B': 0, 'C': 0, 'D': 0, 'E': 0}</td>\n",
       "      <td>{'A': -0.04999999999999982, 'B': -0.0499999999...</td>\n",
       "      <td>{'A': 0, 'B': 0, 'C': 0, 'D': 0, 'E': 0}</td>\n",
       "    </tr>\n",
       "    <tr>\n",
       "      <th>97</th>\n",
       "      <th>0</th>\n",
       "      <td>97</td>\n",
       "      <td>{2: {'A': [5], 'B': [5], 'C': [], 'D': [5], 'E...</td>\n",
       "      <td>74.494949</td>\n",
       "      <td>{'A': 4.95, 'B': 4.95, 'C': 0.0, 'D': 0.962727...</td>\n",
       "      <td>{'A': 0, 'B': 0, 'C': 0, 'D': 0, 'E': 0}</td>\n",
       "      <td>{'A': -0.04999999999999982, 'B': -0.0499999999...</td>\n",
       "      <td>{'A': 0, 'B': 0, 'C': 0, 'D': 0, 'E': 0}</td>\n",
       "    </tr>\n",
       "    <tr>\n",
       "      <th>98</th>\n",
       "      <th>0</th>\n",
       "      <td>98</td>\n",
       "      <td>{2: {'A': [5], 'B': [5], 'C': [], 'D': [5], 'E...</td>\n",
       "      <td>74.494949</td>\n",
       "      <td>{'A': 4.95, 'B': 4.95, 'C': 0.0, 'D': 0.962727...</td>\n",
       "      <td>{'A': 0, 'B': 0, 'C': 0, 'D': 0, 'E': 0}</td>\n",
       "      <td>{'A': -0.04999999999999982, 'B': -0.0499999999...</td>\n",
       "      <td>{'A': 0, 'B': 0, 'C': 0, 'D': 0, 'E': 0}</td>\n",
       "    </tr>\n",
       "    <tr>\n",
       "      <th>99</th>\n",
       "      <th>0</th>\n",
       "      <td>99</td>\n",
       "      <td>{2: {'A': [5], 'B': [5], 'C': [], 'D': [5], 'E...</td>\n",
       "      <td>74.494949</td>\n",
       "      <td>{'A': 4.95, 'B': 4.95, 'C': 0.0, 'D': 0.962727...</td>\n",
       "      <td>{'A': 0, 'B': 0, 'C': 0, 'D': 0, 'E': 0}</td>\n",
       "      <td>{'A': -0.04999999999999982, 'B': -0.0499999999...</td>\n",
       "      <td>{'A': 0, 'B': 0, 'C': 0, 'D': 0, 'E': 0}</td>\n",
       "    </tr>\n",
       "    <tr>\n",
       "      <th>100</th>\n",
       "      <th>0</th>\n",
       "      <td>100</td>\n",
       "      <td>{2: {'A': [5], 'B': [5], 'C': [], 'D': [5], 'E...</td>\n",
       "      <td>73.749999</td>\n",
       "      <td>{'A': 4.95, 'B': 4.95, 'C': 0.0, 'D': 0.962727...</td>\n",
       "      <td>{'A': 0, 'B': 0, 'C': 0, 'D': 0, 'E': 0}</td>\n",
       "      <td>{'A': -0.04999999999999982, 'B': -0.0499999999...</td>\n",
       "      <td>{'A': 0, 'B': 0, 'C': 0, 'D': 0, 'E': 0}</td>\n",
       "    </tr>\n",
       "  </tbody>\n",
       "</table>\n",
       "<p>100 rows × 7 columns</p>\n",
       "</div>"
      ],
      "text/plain": [
       "              now                                        contributes  \\\n",
       "Step AgentID                                                           \n",
       "1    0          1  {2: {'A': [5], 'B': [5], 'C': [], 'D': [5], 'E...   \n",
       "2    0          2  {2: {'A': [5], 'B': [5], 'C': [], 'D': [5], 'E...   \n",
       "3    0          3  {2: {'A': [5], 'B': [5], 'C': [], 'D': [5], 'E...   \n",
       "4    0          4  {2: {'A': [5], 'B': [5], 'C': [], 'D': [5], 'E...   \n",
       "5    0          5  {2: {'A': [5], 'B': [5], 'C': [], 'D': [5], 'E...   \n",
       "...           ...                                                ...   \n",
       "96   0         96  {2: {'A': [5], 'B': [5], 'C': [], 'D': [5], 'E...   \n",
       "97   0         97  {2: {'A': [5], 'B': [5], 'C': [], 'D': [5], 'E...   \n",
       "98   0         98  {2: {'A': [5], 'B': [5], 'C': [], 'D': [5], 'E...   \n",
       "99   0         99  {2: {'A': [5], 'B': [5], 'C': [], 'D': [5], 'E...   \n",
       "100  0        100  {2: {'A': [5], 'B': [5], 'C': [], 'D': [5], 'E...   \n",
       "\n",
       "                    ovr                                        hard_skills  \\\n",
       "Step AgentID                                                                 \n",
       "1    0        49.145450  {'A': 4.95, 'B': 4.95, 'C': 0.0, 'D': 0.962727...   \n",
       "2    0        48.653996  {'A': 4.95, 'B': 4.95, 'C': 0.0, 'D': 0.962727...   \n",
       "3    0        48.653996  {'A': 4.95, 'B': 4.95, 'C': 0.0, 'D': 0.962727...   \n",
       "4    0        48.653996  {'A': 4.95, 'B': 4.95, 'C': 0.0, 'D': 0.962727...   \n",
       "5    0        48.653996  {'A': 4.95, 'B': 4.95, 'C': 0.0, 'D': 0.962727...   \n",
       "...                 ...                                                ...   \n",
       "96   0        72.276383  {'A': 4.95, 'B': 4.95, 'C': 0.0, 'D': 0.962727...   \n",
       "97   0        74.494949  {'A': 4.95, 'B': 4.95, 'C': 0.0, 'D': 0.962727...   \n",
       "98   0        74.494949  {'A': 4.95, 'B': 4.95, 'C': 0.0, 'D': 0.962727...   \n",
       "99   0        74.494949  {'A': 4.95, 'B': 4.95, 'C': 0.0, 'D': 0.962727...   \n",
       "100  0        73.749999  {'A': 4.95, 'B': 4.95, 'C': 0.0, 'D': 0.962727...   \n",
       "\n",
       "                                              training  \\\n",
       "Step AgentID                                             \n",
       "1    0        {'A': 0, 'B': 0, 'C': 0, 'D': 0, 'E': 0}   \n",
       "2    0        {'A': 0, 'B': 0, 'C': 0, 'D': 0, 'E': 0}   \n",
       "3    0        {'A': 0, 'B': 0, 'C': 0, 'D': 0, 'E': 0}   \n",
       "4    0        {'A': 0, 'B': 0, 'C': 0, 'D': 0, 'E': 0}   \n",
       "5    0        {'A': 0, 'B': 0, 'C': 0, 'D': 0, 'E': 0}   \n",
       "...                                                ...   \n",
       "96   0        {'A': 0, 'B': 0, 'C': 0, 'D': 0, 'E': 0}   \n",
       "97   0        {'A': 0, 'B': 0, 'C': 0, 'D': 0, 'E': 0}   \n",
       "98   0        {'A': 0, 'B': 0, 'C': 0, 'D': 0, 'E': 0}   \n",
       "99   0        {'A': 0, 'B': 0, 'C': 0, 'D': 0, 'E': 0}   \n",
       "100  0        {'A': 0, 'B': 0, 'C': 0, 'D': 0, 'E': 0}   \n",
       "\n",
       "                                                    skill_decay  \\\n",
       "Step AgentID                                                      \n",
       "1    0        {'A': -0.04999999999999982, 'B': -0.0499999999...   \n",
       "2    0        {'A': -0.04999999999999982, 'B': -0.0499999999...   \n",
       "3    0        {'A': -0.04999999999999982, 'B': -0.0499999999...   \n",
       "4    0        {'A': -0.04999999999999982, 'B': -0.0499999999...   \n",
       "5    0        {'A': -0.04999999999999982, 'B': -0.0499999999...   \n",
       "...                                                         ...   \n",
       "96   0        {'A': -0.04999999999999982, 'B': -0.0499999999...   \n",
       "97   0        {'A': -0.04999999999999982, 'B': -0.0499999999...   \n",
       "98   0        {'A': -0.04999999999999982, 'B': -0.0499999999...   \n",
       "99   0        {'A': -0.04999999999999982, 'B': -0.0499999999...   \n",
       "100  0        {'A': -0.04999999999999982, 'B': -0.0499999999...   \n",
       "\n",
       "                                       peer_assessment  \n",
       "Step AgentID                                            \n",
       "1    0        {'A': 0, 'B': 0, 'C': 0, 'D': 0, 'E': 0}  \n",
       "2    0        {'A': 0, 'B': 0, 'C': 0, 'D': 0, 'E': 0}  \n",
       "3    0        {'A': 0, 'B': 0, 'C': 0, 'D': 0, 'E': 0}  \n",
       "4    0        {'A': 0, 'B': 0, 'C': 0, 'D': 0, 'E': 0}  \n",
       "5    0        {'A': 0, 'B': 0, 'C': 0, 'D': 0, 'E': 0}  \n",
       "...                                                ...  \n",
       "96   0        {'A': 0, 'B': 0, 'C': 0, 'D': 0, 'E': 0}  \n",
       "97   0        {'A': 0, 'B': 0, 'C': 0, 'D': 0, 'E': 0}  \n",
       "98   0        {'A': 0, 'B': 0, 'C': 0, 'D': 0, 'E': 0}  \n",
       "99   0        {'A': 0, 'B': 0, 'C': 0, 'D': 0, 'E': 0}  \n",
       "100  0        {'A': 0, 'B': 0, 'C': 0, 'D': 0, 'E': 0}  \n",
       "\n",
       "[100 rows x 7 columns]"
      ]
     },
     "execution_count": 252,
     "metadata": {},
     "output_type": "execute_result"
    }
   ],
   "source": [
    "worker_frame"
   ]
  },
  {
   "cell_type": "markdown",
   "metadata": {},
   "source": [
    "Note: that each 'contributes' entry as actually storing the whole list of worker contributions throughout the simulation. Can change this.\n",
    "\n",
    "Note: 'contributes' runs beyond the end of the simulation because of timeline flexibility."
   ]
  },
  {
   "cell_type": "code",
   "execution_count": 264,
   "metadata": {},
   "outputs": [],
   "source": [
    "all_projects"
   ]
  },
  {
   "cell_type": "code",
   "execution_count": 268,
   "metadata": {},
   "outputs": [
    {
     "data": {
      "text/plain": [
       "[5, 5, 5]"
      ]
     },
     "execution_count": 268,
     "metadata": {},
     "output_type": "execute_result"
    }
   ],
   "source": [
    "flatten([contributes[2][skill] for skill in ['A', 'B', 'C', 'D', 'E']])"
   ]
  },
  {
   "cell_type": "code",
   "execution_count": 283,
   "metadata": {},
   "outputs": [],
   "source": [
    "#for worker in workers:\n",
    "#    agent_vars.iloc[agent_vars.index.get_level_values('AgentID') == worker]\n",
    "\n",
    "worker_frame = agent_vars.iloc[agent_vars.index.get_level_values('AgentID') == 0]\n",
    "contributes = worker_frame.iloc[0].contributes\n",
    "\n",
    "flatten = lambda t: [item for sublist in t for item in sublist]\n",
    "\n",
    "def get_all_projects_at_t(t, contributes):\n",
    "    return set(flatten([contributes[t][skill] for skill in ['A', 'B', 'C', 'D', 'E']]))\n",
    "\n",
    "x = []\n",
    "y = []\n",
    "z = [] \n",
    "    \n",
    "for t in contributes.keys():\n",
    "    if t <= 100:\n",
    "        worker_ovr = worker_frame.loc[t].ovr\n",
    "        all_projects = get_all_projects_at_t(t, contributes) \n",
    "        if all_projects is not None and len(all_projects) > 0:\n",
    "            for p in all_projects:\n",
    "                if p in basin_w_flex.project_id:\n",
    "                    x.append(float(worker_ovr.iloc[0]))\n",
    "                    y.append(float(basin_w_flex.loc[basin_w_flex.project_id==p].risk.iloc[0]))\n",
    "                    z.append(float(basin_w_flex.loc[basin_w_flex.project_id==p].prob.iloc[0]))"
   ]
  },
  {
   "cell_type": "code",
   "execution_count": 289,
   "metadata": {},
   "outputs": [
    {
     "name": "stdout",
     "output_type": "stream",
     "text": [
      "48.653995907039004\n"
     ]
    },
    {
     "data": {
      "image/png": "[encoded data removed]",
      "text/plain": [
       "<Figure size 432x288 with 1 Axes>"
      ]
     },
     "metadata": {
      "needs_background": "light"
     },
     "output_type": "display_data"
    }
   ],
   "source": [
    "plt.scatter(y, x)\n",
    "plt.xlabel('risk')\n",
    "plt.ylabel('worker OVR');\n",
    "\n",
    "print(min(x))"
   ]
  },
  {
   "cell_type": "code",
   "execution_count": 291,
   "metadata": {},
   "outputs": [
    {
     "data": {
      "image/png": "[encoded data removed]",
      "text/plain": [
       "<Figure size 432x288 with 1 Axes>"
      ]
     },
     "metadata": {
      "needs_background": "light"
     },
     "output_type": "display_data"
    }
   ],
   "source": [
    "plt.hist(agent_vars.ovr, alpha=0.4)\n",
    "plt.axvline(48.65);"
   ]
  },
  {
   "cell_type": "markdown",
   "metadata": {},
   "source": [
    "#### d) Timeline flexibility pays off (start date can be later) in terms of higher project success rates"
   ]
  },
  {
   "cell_type": "markdown",
   "metadata": {},
   "source": [
    "See above..more work to do here."
   ]
  },
  {
   "cell_type": "markdown",
   "metadata": {},
   "source": [
    "#### e) Budgetary flexibility pays off (higher budget) in terms of higher project success rates\n",
    "\n",
    "Need to run more simulations..."
   ]
  },
  {
   "cell_type": "markdown",
   "metadata": {},
   "source": [
    "#### f) Targeted training pays off in terms of higher project success rate and lower turnover\n",
    "\n",
    "Need to run more simultations..."
   ]
  },
  {
   "cell_type": "code",
   "execution_count": 219,
   "metadata": {},
   "outputs": [],
   "source": [
    "with open(DATA_DIR + 'basin_w_timeline_flex/tracked_model_vars_wc_100_np_2_ts_100.pickle', 'rb') as ifile:\n",
    "    model_vars = pickle.load(ifile)"
   ]
  },
  {
   "cell_type": "code",
   "execution_count": 226,
   "metadata": {},
   "outputs": [
    {
     "data": {
      "text/plain": [
       "<matplotlib.legend.Legend at 0x29517f45040>"
      ]
     },
     "execution_count": 226,
     "metadata": {},
     "output_type": "execute_result"
    },
    {
     "data": {
      "image/png": "[encoded data removed]",
      "text/plain": [
       "<Figure size 432x288 with 1 Axes>"
      ]
     },
     "metadata": {
      "needs_background": "light"
     },
     "output_type": "display_data"
    }
   ],
   "source": [
    "plt.plot(model_vars.index, model_vars.TrainingLoad, label='training load')\n",
    "plt.plot(model_vars.index, model_vars.ProjectLoad, label='project load')\n",
    "plt.plot(model_vars.index, model_vars.DeptLoad, label='departmental load')\n",
    "plt.plot(model_vars.index, model_vars.Slack, label='slack')\n",
    "plt.legend()"
   ]
  },
  {
   "cell_type": "markdown",
   "metadata": {},
   "source": [
    "#### g) Some slack in the system, i.e., a utilization rate of workers <100% will add value\n"
   ]
  },
  {
   "cell_type": "markdown",
   "metadata": {},
   "source": [
    "#### h) Too much slack in the system will increase turn-over (i.e., too many workers are not engaged in projects or trainings, the median skill level drops and workers get replaced)"
   ]
  },
  {
   "cell_type": "markdown",
   "metadata": {},
   "source": [
    "#### i) Low OVR workers stay low OVR and eventually get replaced, et vice versa (“the rich get richer” effect)"
   ]
  },
  {
   "cell_type": "markdown",
   "metadata": {},
   "source": [
    "#### j) More and earlier training mitigates “the rich get richer” effect \n",
    "\n",
    "Run simulations with different training parameters..."
   ]
  },
  {
   "cell_type": "markdown",
   "metadata": {},
   "source": [
    "#### k) For high OVR workers, a high portion of their OVR change is due to project work experience while for low OVR workers a high portion of the OVR change is due to training"
   ]
  },
  {
   "cell_type": "markdown",
   "metadata": {},
   "source": [
    "#### l) TThe higher the budgetary flexibility (up and down) and the lower the timing flexibility, the lower the latency (number of time steps a projects waits in the queue)"
   ]
  },
  {
   "cell_type": "code",
   "execution_count": null,
   "metadata": {},
   "outputs": [],
   "source": []
  }
 ],
 "metadata": {
  "kernelspec": {
   "display_name": "Python 3",
   "language": "python",
   "name": "python3"
  },
  "language_info": {
   "codemirror_mode": {
    "name": "ipython",
    "version": 3
   },
   "file_extension": ".py",
   "mimetype": "text/x-python",
   "name": "python",
   "nbconvert_exporter": "python",
   "pygments_lexer": "ipython3",
   "version": "3.6.8"
  }
 },
 "nbformat": 4,
 "nbformat_minor": 4
}
