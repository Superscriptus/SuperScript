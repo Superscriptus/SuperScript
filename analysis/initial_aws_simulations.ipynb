{
 "cells": [
  {
   "cell_type": "markdown",
   "metadata": {},
   "source": [
    "#### Analysing the first lot of simulation that were run on AWS (01/03/2021).\n",
    "\n",
    "#### TODO 06/03/21:\n",
    "- rerun single simulations with new data collector\n",
    "- check offset distributions\n",
    "- modify timeline flexibility functionality accordingly...\n",
    "- check other outputs\n",
    "- write network data collector \n",
    "- check and write other required data collectors\n",
    "\n",
    "\n",
    "#### FURTHER TODO:\n",
    "\n",
    "- ~~Prevent zero probabilites: if optimsation fails, use smart guess.~~\n",
    "- ~~Add data collector method for project start times and offsets.~~\n",
    "- ~~Run diagnostic simulations x 2 without budgetary constraint (test no nulls w/o budget, test no zero probs after above change,~~test offset distributions - as expected?) - still gettings NULL and zero probs. Looking in mesa server sims: random team allocation is producing null teams because select_Team is returning teams that exceed budget. Basin is also producing teams that exceed budget!! Shit...  \n",
    "\n",
    "DO: remove diagnostic print (null project) statements from org.py. Rerun diagnostic simulations in c6g w/o budget constraint. Make smart_guess and smart_step respect constraints. Replace solver output with initial guess if sum(x)==0. Check and remove assert test_constraints statement in opti.py\n",
    "\n",
    "\n",
    "- (Do niter=0 in parallel)\n",
    "- ~~Make smart_guess respect budget constraints~~\n",
    "- ~~Confirm that smart_step is respecting budget constraint~~\n",
    "- Write unit tests for optimiser (e.g. confirm all constraints are respected)\n",
    "- ~~Add data collector method for budgets:~~ Plot distribution of budgets (relative).\n",
    "- Add any further data collectors required for testing hypotheses (e.g. save network)\n",
    "- Run simulations x 3 (with budgetary constraint)\n",
    "\n",
    "Questions:\n",
    "- Is the budget shown in the scatter plot the 'flexed' budget?\n",
    "- Is budget copied across (incuding flex) when using predefined projects?\n",
    "- Does a 1000 worker simulation take 56 hours on my new computer?!"
   ]
  },
  {
   "cell_type": "code",
   "execution_count": 17,
   "metadata": {},
   "outputs": [],
   "source": [
    "#DATA_DIR = '../simulation_io/single_runs_010321/'\n",
    "#DATA_DIR = '../simulation_io/diagnostics_020321/'\n",
    "#DATA_DIR = '../simulation_io/single_runs_040321/'\n",
    "DATA_DIR = '../simulation_io/diagnostics_060321/'"
   ]
  },
  {
   "cell_type": "code",
   "execution_count": 18,
   "metadata": {},
   "outputs": [],
   "source": [
    "import pickle\n",
    "import numpy as np\n",
    "import matplotlib.pyplot as plt\n",
    "%matplotlib inline"
   ]
  },
  {
   "cell_type": "code",
   "execution_count": 21,
   "metadata": {},
   "outputs": [],
   "source": [
    "with open(DATA_DIR + 'random_all_in/tracked_projects_wc_100_np_2_ts_100.pickle', 'rb') as ifile:\n",
    "    random = pickle.load(ifile)\n",
    "    \n",
    "with open(DATA_DIR + 'basin_w_timeline_flex/tracked_projects_wc_100_np_2_ts_10.pickle', 'rb') as ifile:\n",
    "    basin_w_flex = pickle.load(ifile)\n",
    "    \n",
    "with open(DATA_DIR + 'basin_wo_timeline_flex/tracked_projects_wc_100_np_2_ts_10.pickle', 'rb') as ifile:\n",
    "    basin_wo_flex = pickle.load(ifile)    "
   ]
  },
  {
   "cell_type": "code",
   "execution_count": 22,
   "metadata": {},
   "outputs": [
    {
     "data": {
      "text/html": [
       "<div>\n",
       "<style scoped>\n",
       "    .dataframe tbody tr th:only-of-type {\n",
       "        vertical-align: middle;\n",
       "    }\n",
       "\n",
       "    .dataframe tbody tr th {\n",
       "        vertical-align: top;\n",
       "    }\n",
       "\n",
       "    .dataframe thead th {\n",
       "        text-align: right;\n",
       "    }\n",
       "</style>\n",
       "<table border=\"1\" class=\"dataframe\">\n",
       "  <thead>\n",
       "    <tr style=\"text-align: right;\">\n",
       "      <th></th>\n",
       "      <th>project_id</th>\n",
       "      <th>prob</th>\n",
       "      <th>risk</th>\n",
       "      <th>budget</th>\n",
       "      <th>null</th>\n",
       "      <th>success</th>\n",
       "      <th>maximum_offset</th>\n",
       "      <th>realised_offset</th>\n",
       "      <th>start_time</th>\n",
       "      <th>team_budget</th>\n",
       "      <th>team_ovr</th>\n",
       "      <th>team_creativity_match</th>\n",
       "    </tr>\n",
       "  </thead>\n",
       "  <tbody>\n",
       "    <tr>\n",
       "      <th>0</th>\n",
       "      <td>0</td>\n",
       "      <td>0.000000</td>\n",
       "      <td>25</td>\n",
       "      <td>98.00</td>\n",
       "      <td>False</td>\n",
       "      <td>False</td>\n",
       "      <td>0</td>\n",
       "      <td>0</td>\n",
       "      <td>0</td>\n",
       "      <td>45.297157</td>\n",
       "      <td>32.355112</td>\n",
       "      <td>22.515966</td>\n",
       "    </tr>\n",
       "    <tr>\n",
       "      <th>1</th>\n",
       "      <td>1</td>\n",
       "      <td>0.000000</td>\n",
       "      <td>25</td>\n",
       "      <td>30.00</td>\n",
       "      <td>False</td>\n",
       "      <td>False</td>\n",
       "      <td>0</td>\n",
       "      <td>0</td>\n",
       "      <td>0</td>\n",
       "      <td>26.306742</td>\n",
       "      <td>43.844570</td>\n",
       "      <td>31.439368</td>\n",
       "    </tr>\n",
       "    <tr>\n",
       "      <th>2</th>\n",
       "      <td>3</td>\n",
       "      <td>0.019371</td>\n",
       "      <td>5</td>\n",
       "      <td>71.00</td>\n",
       "      <td>False</td>\n",
       "      <td>False</td>\n",
       "      <td>0</td>\n",
       "      <td>0</td>\n",
       "      <td>1</td>\n",
       "      <td>60.578198</td>\n",
       "      <td>48.462558</td>\n",
       "      <td>1.393192</td>\n",
       "    </tr>\n",
       "    <tr>\n",
       "      <th>3</th>\n",
       "      <td>2</td>\n",
       "      <td>0.044394</td>\n",
       "      <td>10</td>\n",
       "      <td>56.00</td>\n",
       "      <td>False</td>\n",
       "      <td>False</td>\n",
       "      <td>0</td>\n",
       "      <td>0</td>\n",
       "      <td>1</td>\n",
       "      <td>30.442610</td>\n",
       "      <td>32.044852</td>\n",
       "      <td>0.523385</td>\n",
       "    </tr>\n",
       "    <tr>\n",
       "      <th>4</th>\n",
       "      <td>5</td>\n",
       "      <td>0.593297</td>\n",
       "      <td>5</td>\n",
       "      <td>52.00</td>\n",
       "      <td>False</td>\n",
       "      <td>False</td>\n",
       "      <td>0</td>\n",
       "      <td>0</td>\n",
       "      <td>2</td>\n",
       "      <td>39.328768</td>\n",
       "      <td>65.547947</td>\n",
       "      <td>0.023923</td>\n",
       "    </tr>\n",
       "    <tr>\n",
       "      <th>...</th>\n",
       "      <td>...</td>\n",
       "      <td>...</td>\n",
       "      <td>...</td>\n",
       "      <td>...</td>\n",
       "      <td>...</td>\n",
       "      <td>...</td>\n",
       "      <td>...</td>\n",
       "      <td>...</td>\n",
       "      <td>...</td>\n",
       "      <td>...</td>\n",
       "      <td>...</td>\n",
       "      <td>...</td>\n",
       "    </tr>\n",
       "    <tr>\n",
       "      <th>189</th>\n",
       "      <td>183</td>\n",
       "      <td>0.365464</td>\n",
       "      <td>5</td>\n",
       "      <td>103.75</td>\n",
       "      <td>False</td>\n",
       "      <td>False</td>\n",
       "      <td>3</td>\n",
       "      <td>3</td>\n",
       "      <td>94</td>\n",
       "      <td>46.710466</td>\n",
       "      <td>38.925388</td>\n",
       "      <td>0.022720</td>\n",
       "    </tr>\n",
       "    <tr>\n",
       "      <th>190</th>\n",
       "      <td>189</td>\n",
       "      <td>0.000000</td>\n",
       "      <td>5</td>\n",
       "      <td>55.00</td>\n",
       "      <td>False</td>\n",
       "      <td>False</td>\n",
       "      <td>0</td>\n",
       "      <td>0</td>\n",
       "      <td>94</td>\n",
       "      <td>25.739933</td>\n",
       "      <td>30.282274</td>\n",
       "      <td>2.946970</td>\n",
       "    </tr>\n",
       "    <tr>\n",
       "      <th>191</th>\n",
       "      <td>197</td>\n",
       "      <td>0.000000</td>\n",
       "      <td>5</td>\n",
       "      <td>38.00</td>\n",
       "      <td>True</td>\n",
       "      <td>False</td>\n",
       "      <td>0</td>\n",
       "      <td>0</td>\n",
       "      <td>98</td>\n",
       "      <td>NaN</td>\n",
       "      <td>NaN</td>\n",
       "      <td>NaN</td>\n",
       "    </tr>\n",
       "    <tr>\n",
       "      <th>192</th>\n",
       "      <td>190</td>\n",
       "      <td>0.020103</td>\n",
       "      <td>25</td>\n",
       "      <td>45.00</td>\n",
       "      <td>False</td>\n",
       "      <td>False</td>\n",
       "      <td>0</td>\n",
       "      <td>0</td>\n",
       "      <td>95</td>\n",
       "      <td>31.153861</td>\n",
       "      <td>56.643383</td>\n",
       "      <td>1.215305</td>\n",
       "    </tr>\n",
       "    <tr>\n",
       "      <th>193</th>\n",
       "      <td>198</td>\n",
       "      <td>0.000000</td>\n",
       "      <td>10</td>\n",
       "      <td>11.00</td>\n",
       "      <td>True</td>\n",
       "      <td>False</td>\n",
       "      <td>0</td>\n",
       "      <td>0</td>\n",
       "      <td>99</td>\n",
       "      <td>NaN</td>\n",
       "      <td>NaN</td>\n",
       "      <td>NaN</td>\n",
       "    </tr>\n",
       "  </tbody>\n",
       "</table>\n",
       "<p>194 rows × 12 columns</p>\n",
       "</div>"
      ],
      "text/plain": [
       "     project_id      prob  risk  budget   null  success  maximum_offset  \\\n",
       "0             0  0.000000    25   98.00  False    False               0   \n",
       "1             1  0.000000    25   30.00  False    False               0   \n",
       "2             3  0.019371     5   71.00  False    False               0   \n",
       "3             2  0.044394    10   56.00  False    False               0   \n",
       "4             5  0.593297     5   52.00  False    False               0   \n",
       "..          ...       ...   ...     ...    ...      ...             ...   \n",
       "189         183  0.365464     5  103.75  False    False               3   \n",
       "190         189  0.000000     5   55.00  False    False               0   \n",
       "191         197  0.000000     5   38.00   True    False               0   \n",
       "192         190  0.020103    25   45.00  False    False               0   \n",
       "193         198  0.000000    10   11.00   True    False               0   \n",
       "\n",
       "     realised_offset  start_time  team_budget   team_ovr  \\\n",
       "0                  0           0    45.297157  32.355112   \n",
       "1                  0           0    26.306742  43.844570   \n",
       "2                  0           1    60.578198  48.462558   \n",
       "3                  0           1    30.442610  32.044852   \n",
       "4                  0           2    39.328768  65.547947   \n",
       "..               ...         ...          ...        ...   \n",
       "189                3          94    46.710466  38.925388   \n",
       "190                0          94    25.739933  30.282274   \n",
       "191                0          98          NaN        NaN   \n",
       "192                0          95    31.153861  56.643383   \n",
       "193                0          99          NaN        NaN   \n",
       "\n",
       "     team_creativity_match  \n",
       "0                22.515966  \n",
       "1                31.439368  \n",
       "2                 1.393192  \n",
       "3                 0.523385  \n",
       "4                 0.023923  \n",
       "..                     ...  \n",
       "189               0.022720  \n",
       "190               2.946970  \n",
       "191                    NaN  \n",
       "192               1.215305  \n",
       "193                    NaN  \n",
       "\n",
       "[194 rows x 12 columns]"
      ]
     },
     "execution_count": 22,
     "metadata": {},
     "output_type": "execute_result"
    }
   ],
   "source": [
    "random"
   ]
  },
  {
   "cell_type": "code",
   "execution_count": 23,
   "metadata": {},
   "outputs": [
    {
     "data": {
      "text/plain": [
       "(array([148.,   0.,   0.,  20.,   0.,   0.,  16.,   0.,   0.,  10.]),\n",
       " array([0. , 0.3, 0.6, 0.9, 1.2, 1.5, 1.8, 2.1, 2.4, 2.7, 3. ]),\n",
       " <BarContainer object of 10 artists>)"
      ]
     },
     "execution_count": 23,
     "metadata": {},
     "output_type": "execute_result"
    },
    {
     "data": {
      "image/png": "[encoded data removed]",
      "text/plain": [
       "<Figure size 432x288 with 1 Axes>"
      ]
     },
     "metadata": {
      "needs_background": "light"
     },
     "output_type": "display_data"
    }
   ],
   "source": [
    "plt.hist(random.realised_offset)"
   ]
  },
  {
   "cell_type": "code",
   "execution_count": 25,
   "metadata": {},
   "outputs": [],
   "source": [
    "assert all(random.realised_offset == random.maximum_offset)"
   ]
  },
  {
   "cell_type": "code",
   "execution_count": 27,
   "metadata": {},
   "outputs": [
    {
     "data": {
      "image/png": "[encoded data removed]",
      "text/plain": [
       "<Figure size 432x288 with 2 Axes>"
      ]
     },
     "metadata": {
      "needs_background": "light"
     },
     "output_type": "display_data"
    }
   ],
   "source": [
    "plt.subplot(1,2,1)\n",
    "plt.hist(basin_w_flex.realised_offset)\n",
    "plt.subplot(1,2,2)\n",
    "plt.hist(basin_w_flex.maximum_offset);"
   ]
  },
  {
   "cell_type": "code",
   "execution_count": 28,
   "metadata": {},
   "outputs": [
    {
     "data": {
      "image/png": "[encoded data removed]",
      "text/plain": [
       "<Figure size 432x288 with 2 Axes>"
      ]
     },
     "metadata": {
      "needs_background": "light"
     },
     "output_type": "display_data"
    }
   ],
   "source": [
    "plt.subplot(1,2,1)\n",
    "plt.hist(basin_wo_flex.realised_offset)\n",
    "plt.subplot(1,2,2)\n",
    "plt.hist(basin_wo_flex.maximum_offset);"
   ]
  },
  {
   "cell_type": "code",
   "execution_count": 29,
   "metadata": {},
   "outputs": [
    {
     "name": "stdout",
     "output_type": "stream",
     "text": [
      "0\n"
     ]
    }
   ],
   "source": [
    "for i in range(1):\n",
    "    print (i)"
   ]
  },
  {
   "cell_type": "code",
   "execution_count": null,
   "metadata": {},
   "outputs": [],
   "source": []
  },
  {
   "cell_type": "code",
   "execution_count": 5,
   "metadata": {},
   "outputs": [
    {
     "name": "stdout",
     "output_type": "stream",
     "text": [
      "Fraction of null projects.\n",
      "Random:  0.14\n",
      "Basin with timeline flex:  0.0\n",
      "Basin without timeline flex:  0.0\n"
     ]
    }
   ],
   "source": [
    "print(\"Fraction of null projects.\")\n",
    "print(\"Random: \", np.round(sum(random.null) / len(random), 2))\n",
    "print(\"Basin with timeline flex: \", np.round(sum(basin_w_flex.null) / len(basin_w_flex), 2))\n",
    "print(\"Basin without timeline flex: \", np.round(sum(basin_wo_flex.null) / len(basin_wo_flex), 2))"
   ]
  },
  {
   "cell_type": "code",
   "execution_count": 6,
   "metadata": {},
   "outputs": [
    {
     "data": {
      "image/png": "[encoded data removed]",
      "text/plain": [
       "<Figure size 504x360 with 1 Axes>"
      ]
     },
     "metadata": {
      "needs_background": "light"
     },
     "output_type": "display_data"
    }
   ],
   "source": [
    "fs = 12\n",
    "ps = 5\n",
    "plt.figure(figsize=(7,5))\n",
    "plt.scatter(random.budget,\n",
    "            random.prob * random.risk,\n",
    "            label='random', color='green', s=ps)\n",
    "\n",
    "plt.scatter(basin_w_flex.budget,\n",
    "            basin_w_flex.prob * basin_w_flex.risk,\n",
    "            label='basin', color='blue', s=ps)\n",
    "\n",
    "plt.scatter(basin_wo_flex.budget,\n",
    "            basin_wo_flex.prob * basin_wo_flex.risk,\n",
    "            label='basin (no flex)', color='red', s=ps)\n",
    "\n",
    "plt.xlabel(\"project budget\", fontsize=fs)\n",
    "plt.ylabel(\"expected value (prob * risk)\", fontsize=fs)\n",
    "plt.title(\"All projects\")\n",
    "plt.legend();"
   ]
  },
  {
   "cell_type": "code",
   "execution_count": 16,
   "metadata": {},
   "outputs": [
    {
     "data": {
      "image/png": "[encoded data removed]",
      "text/plain": [
       "<Figure size 504x360 with 1 Axes>"
      ]
     },
     "metadata": {
      "needs_background": "light"
     },
     "output_type": "display_data"
    }
   ],
   "source": [
    "from scipy.stats import linregress\n",
    "\n",
    "fs = 12\n",
    "ps = 5\n",
    "\n",
    "\n",
    "plt.figure(figsize=(7,5))\n",
    "x = random.budget\n",
    "y = random.prob * random.risk\n",
    "slope, intercept, r_value, p_value, std_err = linregress(x, y)\n",
    "plt.scatter(x,\n",
    "            y,\n",
    "            label='random (r=%.2f' % r_value, color='green', s=ps)\n",
    "plt.plot(x, x*slope + intercept, color='green')\n",
    "\n",
    "x = basin_w_flex.budget\n",
    "y = basin_w_flex.prob * basin_w_flex.risk\n",
    "slope, intercept, r_value, p_value, std_err = linregress(x, y)\n",
    "plt.scatter(x,\n",
    "            y,\n",
    "            label='basin(r=%.2f' % r_value, color='blue', s=ps)\n",
    "plt.plot(x, x*slope + intercept, color='blue')\n",
    "\n",
    "plt.xlabel(\"project budget\", fontsize=fs)\n",
    "plt.ylabel(\"expected value (prob * risk)\", fontsize=fs)\n",
    "plt.title(\"All projects\")\n",
    "plt.legend();"
   ]
  },
  {
   "cell_type": "code",
   "execution_count": null,
   "metadata": {},
   "outputs": [],
   "source": []
  },
  {
   "cell_type": "code",
   "execution_count": 8,
   "metadata": {},
   "outputs": [],
   "source": [
    "random = random.loc[~random.null]\n",
    "basin_w_flex = basin_w_flex.loc[~basin_w_flex.null]\n",
    "basin_wo_flex = basin_wo_flex.loc[~basin_wo_flex.null]"
   ]
  },
  {
   "cell_type": "code",
   "execution_count": 9,
   "metadata": {},
   "outputs": [
    {
     "data": {
      "image/png": "[encoded data removed]",
      "text/plain": [
       "<Figure size 432x288 with 1 Axes>"
      ]
     },
     "metadata": {
      "needs_background": "light"
     },
     "output_type": "display_data"
    }
   ],
   "source": [
    "fs = 15\n",
    "ps = 5\n",
    "plt.scatter(random.budget,\n",
    "            random.prob * random.risk,\n",
    "            label='random', color='green', s=ps)\n",
    "\n",
    "plt.scatter(basin_w_flex.budget,\n",
    "            basin_w_flex.prob * basin_w_flex.risk,\n",
    "            label='basin', color='blue', s=ps)\n",
    "\n",
    "plt.scatter(basin_wo_flex.budget,\n",
    "            basin_wo_flex.prob * basin_wo_flex.risk,\n",
    "            label='basin (no flex)', color='red', s=ps)\n",
    "\n",
    "plt.xlabel(\"project budget\", fontsize=fs)\n",
    "plt.ylabel(\"expected value (prob * risk)\", fontsize=fs)\n",
    "plt.title(\"Non-null projects only\")\n",
    "plt.legend();"
   ]
  },
  {
   "cell_type": "code",
   "execution_count": 10,
   "metadata": {},
   "outputs": [
    {
     "name": "stdout",
     "output_type": "stream",
     "text": [
      "Mean probability of success.\n",
      "Random:  0.07\n",
      "Basin with timeline flex:  0.36\n",
      "Basin without timeline flex:  0.38\n"
     ]
    }
   ],
   "source": [
    "print(\"Mean probability of success.\")\n",
    "print(\"Random: \", np.round(np.mean(random.prob), 2))\n",
    "print(\"Basin with timeline flex: \", np.round(np.mean(basin_w_flex.prob), 2))\n",
    "print(\"Basin without timeline flex: \", np.round(np.mean(basin_wo_flex.prob), 2))"
   ]
  },
  {
   "cell_type": "code",
   "execution_count": 11,
   "metadata": {},
   "outputs": [
    {
     "name": "stdout",
     "output_type": "stream",
     "text": [
      "Fraction of successful projects.\n",
      "Random:  0.07\n",
      "Basin with timeline flex:  0.32\n",
      "Basin without timeline flex:  0.42\n"
     ]
    }
   ],
   "source": [
    "print(\"Fraction of successful projects.\")\n",
    "print(\"Random: \", np.round(sum(random.success) / len(random), 2))\n",
    "print(\"Basin with timeline flex: \", np.round(sum(basin_w_flex.success) / len(basin_w_flex), 2))\n",
    "print(\"Basin without timeline flex: \", np.round(sum(basin_wo_flex.success) / len(basin_wo_flex), 2))"
   ]
  },
  {
   "cell_type": "code",
   "execution_count": 12,
   "metadata": {},
   "outputs": [
    {
     "data": {
      "image/png": "[encoded data removed]",
      "text/plain": [
       "<Figure size 432x288 with 1 Axes>"
      ]
     },
     "metadata": {
      "needs_background": "light"
     },
     "output_type": "display_data"
    }
   ],
   "source": [
    "plt.hist(random.prob, alpha=0.4, color='blue')\n",
    "plt.hist(basin_w_flex.prob, alpha=0.4, color='green')\n",
    "plt.hist(basin_wo_flex.prob, alpha=0.4, color='red');"
   ]
  },
  {
   "cell_type": "code",
   "execution_count": 15,
   "metadata": {},
   "outputs": [],
   "source": [
    "import random"
   ]
  },
  {
   "cell_type": "code",
   "execution_count": 16,
   "metadata": {},
   "outputs": [
    {
     "data": {
      "image/png": "[encoded data removed]",
      "text/plain": [
       "<Figure size 432x288 with 1 Axes>"
      ]
     },
     "metadata": {
      "needs_background": "light"
     },
     "output_type": "display_data"
    }
   ],
   "source": [
    "plt.hist([random.uniform(0.0, 1.0) for r in range(1000)]);"
   ]
  }
 ],
 "metadata": {
  "kernelspec": {
   "display_name": "Python 3",
   "language": "python",
   "name": "python3"
  },
  "language_info": {
   "codemirror_mode": {
    "name": "ipython",
    "version": 3
   },
   "file_extension": ".py",
   "mimetype": "text/x-python",
   "name": "python",
   "nbconvert_exporter": "python",
   "pygments_lexer": "ipython3",
   "version": "3.8.5"
  }
 },
 "nbformat": 4,
 "nbformat_minor": 4
}
