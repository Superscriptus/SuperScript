{
 "cells": [
  {
   "cell_type": "markdown",
   "metadata": {},
   "source": [
    "#### Manual testing...\n",
    "\n",
    "This notebook serves as an integration test to confirm that the model is behaving as we expect."
   ]
  },
  {
   "cell_type": "code",
   "execution_count": 11,
   "metadata": {},
   "outputs": [],
   "source": [
    "import sys\n",
    "import os\n",
    "import numpy as np\n",
    "import networkx as nx\n",
    "import matplotlib.pyplot as plt\n",
    "import time\n",
    "\n",
    "%matplotlib inline"
   ]
  },
  {
   "cell_type": "code",
   "execution_count": 2,
   "metadata": {},
   "outputs": [],
   "source": [
    "MODEL_DIR = os.path.realpath(os.path.dirname('..\\superscript_model'))\n",
    "sys.path.append(os.path.normpath(MODEL_DIR))"
   ]
  },
  {
   "cell_type": "code",
   "execution_count": 3,
   "metadata": {},
   "outputs": [],
   "source": [
    "from superscript_model import model\n",
    "from superscript_model.utilities import Random"
   ]
  },
  {
   "cell_type": "code",
   "execution_count": 13,
   "metadata": {},
   "outputs": [],
   "source": [
    "abm = model.SuperScriptModel(100)"
   ]
  },
  {
   "cell_type": "code",
   "execution_count": 14,
   "metadata": {},
   "outputs": [
    {
     "name": "stdout",
     "output_type": "stream",
     "text": [
      "Step 0 took 0.05 seconds\n",
      "Step 1 took 0.11 seconds\n",
      "Step 2 took 0.11 seconds\n",
      "Step 3 took 0.11 seconds\n",
      "Cannot select 5 workers from bid_pool of size 0 for project 91\n",
      "Project 91 fails because no team\n",
      "Cannot select 3 workers from bid_pool of size 0 for project 84\n",
      "Project 84 fails because no team\n",
      "Cannot select 3 workers from bid_pool of size 0 for project 86\n",
      "Project 86 fails because no team\n",
      "Cannot select 7 workers from bid_pool of size 0 for project 92\n",
      "Project 92 fails because no team\n",
      "Cannot select 6 workers from bid_pool of size 0 for project 85\n",
      "Project 85 fails because no team\n",
      "Cannot select 5 workers from bid_pool of size 0 for project 96\n",
      "Project 96 fails because no team\n",
      "Cannot select 4 workers from bid_pool of size 0 for project 80\n",
      "Project 80 fails because no team\n",
      "Cannot select 7 workers from bid_pool of size 0 for project 97\n",
      "Project 97 fails because no team\n",
      "Cannot select 4 workers from bid_pool of size 0 for project 83\n",
      "Project 83 fails because no team\n",
      "Cannot select 4 workers from bid_pool of size 0 for project 89\n",
      "Project 89 fails because no team\n",
      "Cannot select 6 workers from bid_pool of size 0 for project 98\n",
      "Project 98 fails because no team\n",
      "Cannot select 7 workers from bid_pool of size 0 for project 93\n",
      "Project 93 fails because no team\n",
      "Cannot select 7 workers from bid_pool of size 0 for project 94\n",
      "Project 94 fails because no team\n",
      "Cannot select 7 workers from bid_pool of size 0 for project 82\n",
      "Project 82 fails because no team\n",
      "Cannot select 3 workers from bid_pool of size 0 for project 88\n",
      "Project 88 fails because no team\n",
      "Cannot select 5 workers from bid_pool of size 0 for project 90\n",
      "Project 90 fails because no team\n",
      "edge not found: (76, 74)\n",
      "edge not found: (76, 96)\n",
      "edge not found: (76, 24)\n",
      "edge not found: (76, 53)\n",
      "edge not found: (74, 96)\n",
      "edge not found: (74, 24)\n",
      "edge not found: (74, 53)\n",
      "edge not found: (96, 24)\n",
      "edge not found: (96, 53)\n",
      "edge not found: (24, 53)\n",
      "edge not found: (35, 97)\n",
      "edge not found: (35, 98)\n",
      "edge not found: (35, 93)\n",
      "edge not found: (35, 63)\n",
      "edge not found: (97, 98)\n",
      "edge not found: (97, 93)\n",
      "edge not found: (97, 63)\n",
      "edge not found: (98, 93)\n",
      "edge not found: (98, 63)\n",
      "edge not found: (93, 63)\n",
      "Step 4 took 0.08 seconds\n",
      "Cannot select 6 workers from bid_pool of size 0 for project 105\n",
      "Project 105 fails because no team\n",
      "Cannot select 3 workers from bid_pool of size 0 for project 101\n",
      "Project 101 fails because no team\n",
      "Cannot select 7 workers from bid_pool of size 0 for project 118\n",
      "Project 118 fails because no team\n",
      "Cannot select 3 workers from bid_pool of size 0 for project 116\n",
      "Project 116 fails because no team\n",
      "Cannot select 5 workers from bid_pool of size 0 for project 107\n",
      "Project 107 fails because no team\n",
      "Cannot select 7 workers from bid_pool of size 0 for project 108\n",
      "Project 108 fails because no team\n",
      "Cannot select 5 workers from bid_pool of size 0 for project 100\n",
      "Project 100 fails because no team\n",
      "edge not found: (27, 59)\n",
      "edge not found: (27, 40)\n",
      "edge not found: (59, 40)\n",
      "Step 5 took 0.10 seconds\n",
      "Cannot select 6 workers from bid_pool of size 3 for project 127\n",
      "Project 127 fails because no team\n",
      "Cannot select 7 workers from bid_pool of size 3 for project 122\n",
      "Project 122 fails because no team\n",
      "Step 6 took 0.12 seconds\n",
      "Cannot select 7 workers from bid_pool of size 0 for project 155\n",
      "Project 155 fails because no team\n",
      "Cannot select 4 workers from bid_pool of size 0 for project 142\n",
      "Project 142 fails because no team\n",
      "Cannot select 7 workers from bid_pool of size 0 for project 147\n",
      "Project 147 fails because no team\n",
      "Cannot select 6 workers from bid_pool of size 0 for project 159\n",
      "Project 159 fails because no team\n",
      "edge not found: (39, 5)\n",
      "edge not found: (39, 55)\n",
      "edge not found: (39, 64)\n",
      "edge not found: (39, 69)\n",
      "edge not found: (39, 58)\n",
      "edge not found: (39, 20)\n",
      "edge not found: (5, 55)\n",
      "edge not found: (5, 64)\n",
      "edge not found: (5, 69)\n",
      "edge not found: (5, 58)\n",
      "edge not found: (5, 20)\n",
      "edge not found: (55, 64)\n",
      "edge not found: (55, 69)\n",
      "edge not found: (55, 58)\n",
      "edge not found: (55, 20)\n",
      "edge not found: (64, 69)\n",
      "edge not found: (64, 58)\n",
      "edge not found: (64, 20)\n",
      "edge not found: (69, 58)\n",
      "edge not found: (69, 20)\n",
      "edge not found: (58, 20)\n",
      "edge not found: (47, 21)\n",
      "edge not found: (47, 79)\n",
      "edge not found: (47, 59)\n",
      "edge not found: (21, 79)\n",
      "edge not found: (21, 59)\n",
      "edge not found: (79, 59)\n",
      "Step 7 took 0.12 seconds\n",
      "Cannot select 6 workers from bid_pool of size 5 for project 167\n",
      "Project 167 fails because no team\n",
      "Cannot select 6 workers from bid_pool of size 0 for project 172\n",
      "Project 172 fails because no team\n",
      "Cannot select 4 workers from bid_pool of size 0 for project 163\n",
      "Project 163 fails because no team\n",
      "Cannot select 7 workers from bid_pool of size 0 for project 175\n",
      "Project 175 fails because no team\n",
      "Cannot select 6 workers from bid_pool of size 0 for project 166\n",
      "Project 166 fails because no team\n",
      "Cannot select 6 workers from bid_pool of size 0 for project 170\n",
      "Project 170 fails because no team\n",
      "edge not found: (23, 29)\n",
      "edge not found: (23, 84)\n",
      "edge not found: (23, 24)\n",
      "edge not found: (23, 87)\n",
      "edge not found: (29, 84)\n",
      "edge not found: (29, 24)\n",
      "edge not found: (29, 87)\n",
      "edge not found: (84, 24)\n",
      "edge not found: (84, 87)\n",
      "edge not found: (24, 87)\n",
      "Step 8 took 0.12 seconds\n",
      "Cannot select 5 workers from bid_pool of size 3 for project 181\n",
      "Project 181 fails because no team\n",
      "Cannot select 6 workers from bid_pool of size 3 for project 189\n",
      "Project 189 fails because no team\n",
      "Cannot select 3 workers from bid_pool of size 0 for project 191\n",
      "Project 191 fails because no team\n",
      "Cannot select 3 workers from bid_pool of size 0 for project 180\n",
      "Project 180 fails because no team\n",
      "Cannot select 4 workers from bid_pool of size 0 for project 198\n",
      "Project 198 fails because no team\n",
      "Cannot select 6 workers from bid_pool of size 0 for project 188\n",
      "Project 188 fails because no team\n",
      "Cannot select 7 workers from bid_pool of size 0 for project 195\n",
      "Project 195 fails because no team\n",
      "Cannot select 5 workers from bid_pool of size 0 for project 199\n",
      "Project 199 fails because no team\n",
      "Cannot select 7 workers from bid_pool of size 0 for project 196\n",
      "Project 196 fails because no team\n",
      "Step 9 took 0.09 seconds\n"
     ]
    }
   ],
   "source": [
    "steps = range(10)\n",
    "active_projects = []\n",
    "team_size = []\n",
    "\n",
    "elapsed_times = []\n",
    "\n",
    "for step in steps:\n",
    "    \n",
    "    start_time = time.time()\n",
    "    abm.step()\n",
    "    elapsed_time = time.time() - start_time  \n",
    "    print(\"Step %d took %.2f seconds\" % (step, elapsed_time))\n",
    "    elapsed_times.append(elapsed_time)\n",
    "    \n",
    "    size = 0\n",
    "    active_projects.append(abm.inventory.active_count)\n",
    "    \n",
    "    for project in abm.inventory.projects.values():\n",
    "        size += len(project.team.members)\n",
    "    team_size.append(size/len(abm.inventory.projects.values()))"
   ]
  },
  {
   "cell_type": "code",
   "execution_count": 15,
   "metadata": {},
   "outputs": [
    {
     "name": "stdout",
     "output_type": "stream",
     "text": [
      "0.09948966503143311\n"
     ]
    }
   ],
   "source": [
    "print(np.mean(elapsed_times))"
   ]
  },
  {
   "cell_type": "code",
   "execution_count": 20,
   "metadata": {},
   "outputs": [
    {
     "data": {
      "image/png": "[encoded data removed]",
      "text/plain": [
       "<Figure size 432x288 with 1 Axes>"
      ]
     },
     "metadata": {},
     "output_type": "display_data"
    }
   ],
   "source": [
    "nx.draw(abm.grid.G, pos=nx.circular_layout(abm.grid.G))"
   ]
  },
  {
   "cell_type": "code",
   "execution_count": 7,
   "metadata": {
    "scrolled": true
   },
   "outputs": [
    {
     "data": {
      "image/png": "[encoded data removed]",
      "text/plain": [
       "<Figure size 432x288 with 2 Axes>"
      ]
     },
     "metadata": {
      "needs_background": "light"
     },
     "output_type": "display_data"
    }
   ],
   "source": [
    "plt.subplot(2,1,1)\n",
    "plt.plot(steps, active_projects)\n",
    "plt.ylabel('active projects')\n",
    "\n",
    "plt.subplot(2,1,2)\n",
    "plt.plot(steps, team_size)\n",
    "plt.xlabel('time steps')\n",
    "plt.ylabel('average team size');"
   ]
  },
  {
   "cell_type": "code",
   "execution_count": 8,
   "metadata": {},
   "outputs": [
    {
     "name": "stdout",
     "output_type": "stream",
     "text": [
      "nan\n",
      "nan\n"
     ]
    },
    {
     "name": "stderr",
     "output_type": "stream",
     "text": [
      "C:\\Users\\cm1788\\Anaconda3\\envs\\SuperScript\\lib\\site-packages\\numpy\\core\\fromnumeric.py:3372: RuntimeWarning: Mean of empty slice.\n",
      "  return _methods._mean(a, axis=axis, dtype=dtype,\n",
      "C:\\Users\\cm1788\\Anaconda3\\envs\\SuperScript\\lib\\site-packages\\numpy\\core\\_methods.py:170: RuntimeWarning: invalid value encountered in double_scalars\n",
      "  ret = ret.dtype.type(ret / rcount)\n"
     ]
    }
   ],
   "source": [
    "print(np.mean(active_projects[200:]))\n",
    "print(np.mean(team_size[200:]))"
   ]
  },
  {
   "cell_type": "markdown",
   "metadata": {},
   "source": [
    "#### We now select a random worker from the model and inspect the worker:\n",
    "\n",
    "This produces a json formatted text summary of the worker. Note that this representation will be updated when we add in the worker's history and project activities."
   ]
  },
  {
   "cell_type": "code",
   "execution_count": 9,
   "metadata": {},
   "outputs": [
    {
     "name": "stdout",
     "output_type": "stream",
     "text": [
      "{\n",
      "    \"Worker OVR\": 43.6,\n",
      "    \"Hard skills\": [\n",
      "        2.1,\n",
      "        2.1,\n",
      "        2.4,\n",
      "        2.1,\n",
      "        2.2\n",
      "    ],\n",
      "    \"Soft skills\": [\n",
      "        4.8,\n",
      "        2.9,\n",
      "        1.7,\n",
      "        5.0,\n",
      "        1.4\n",
      "    ],\n",
      "    \"Hard skill probability\": 0.8,\n",
      "    \"OVR multiplier\": 20\n",
      "}\n"
     ]
    }
   ],
   "source": [
    "random_worker = Random.choice(abm.schedule.agents)\n",
    "\n",
    "print(random_worker.skills.to_string())"
   ]
  },
  {
   "cell_type": "markdown",
   "metadata": {},
   "source": [
    "#### We now do the same for a randomly selected project.."
   ]
  },
  {
   "cell_type": "code",
   "execution_count": 10,
   "metadata": {},
   "outputs": [],
   "source": [
    "random_project = Random.choice(list(abm.inventory.projects.values()))"
   ]
  },
  {
   "cell_type": "code",
   "execution_count": 11,
   "metadata": {},
   "outputs": [
    {
     "name": "stdout",
     "output_type": "stream",
     "text": [
      "{\n",
      "    \"risk\": 25,\n",
      "    \"creativity\": 3,\n",
      "    \"flexible_budget\": true,\n",
      "    \"max_budget_increase\": 0.25,\n",
      "    \"p_hard_skill_required\": 0.8,\n",
      "    \"min_skill_required\": 2,\n",
      "    \"per_skill_cap\": 7,\n",
      "    \"total_skill_units\": 12,\n",
      "    \"hard_skills\": {\n",
      "        \"A\": {\n",
      "            \"level\": null,\n",
      "            \"units\": 0\n",
      "        },\n",
      "        \"B\": {\n",
      "            \"level\": 1,\n",
      "            \"units\": 7\n",
      "        },\n",
      "        \"C\": {\n",
      "            \"level\": 4,\n",
      "            \"units\": 3\n",
      "        },\n",
      "        \"D\": {\n",
      "            \"level\": 5,\n",
      "            \"units\": 1\n",
      "        },\n",
      "        \"E\": {\n",
      "            \"level\": 5,\n",
      "            \"units\": 1\n",
      "        }\n",
      "    }\n",
      "}\n"
     ]
    }
   ],
   "source": [
    "print(random_project.requirements.to_string())"
   ]
  },
  {
   "cell_type": "markdown",
   "metadata": {},
   "source": [
    "#### For this project we can also inspect the Team:\n",
    "\n",
    "### Note: here the team of 5 is doing its best to meet the high skill unit requirements...Check with Michael. "
   ]
  },
  {
   "cell_type": "code",
   "execution_count": 12,
   "metadata": {},
   "outputs": [
    {
     "name": "stdout",
     "output_type": "stream",
     "text": [
      "{\n",
      "    \"project\": 1960,\n",
      "    \"members\": [\n",
      "        224,\n",
      "        318,\n",
      "        943,\n",
      "        31,\n",
      "        912\n",
      "    ],\n",
      "    \"lead\": 912,\n",
      "    \"success_probability\": 0,\n",
      "    \"team_ovr\": 46.3,\n",
      "    \"skill_balance\": 5.5,\n",
      "    \"creativity_match\": 0.9,\n",
      "    \"skill_contributions\": {\n",
      "        \"B\": [\n",
      "            224,\n",
      "            943,\n",
      "            318,\n",
      "            912,\n",
      "            31\n",
      "        ],\n",
      "        \"C\": [\n",
      "            318,\n",
      "            943,\n",
      "            224\n",
      "        ],\n",
      "        \"D\": [\n",
      "            224\n",
      "        ],\n",
      "        \"E\": [\n",
      "            224\n",
      "        ]\n",
      "    }\n",
      "}\n"
     ]
    }
   ],
   "source": [
    "print(random_project.team.to_string())"
   ]
  },
  {
   "cell_type": "markdown",
   "metadata": {},
   "source": [
    "#### Note that allocating the total skill units across the skills in a robust way was a non-trivial problem! Solved as follows...\n",
    "\n",
    "*(Move this to another notebook).*"
   ]
  },
  {
   "cell_type": "markdown",
   "metadata": {},
   "source": [
    "Select 5 numbers in (1,10) that sum to X, where X <=50\n",
    "Always a = max(a,1) and b = min(b,10)\n",
    "-\tSelect n1 randint(a,b) where a = X – (4\\*10) and b = X – (4\\*1)\n",
    "-\tSelect n2 randint(a,b) where a = X – n1 – (3\\*10) and b = X – n1 – (3\\*1)\n",
    "-\tSelect n3 randint(a,b) where a = X – n1 – n2 – (2\\*10) and b = X – n1 – n2 – (2\\*1)\n",
    "-\t…\n",
    "-\tSelect n5 randint(a,b) where a = X – n1 – n2 – n3 – n4 and b = X – n1 – n2 – n3 – n4\n"
   ]
  },
  {
   "cell_type": "code",
   "execution_count": 13,
   "metadata": {},
   "outputs": [],
   "source": [
    "def generate_skills(total):\n",
    "\n",
    "    min_units = 1\n",
    "    max_units = 10\n",
    "\n",
    "    remaining = total\n",
    "    length = 5\n",
    "\n",
    "    assert total <= length*max_units\n",
    "    assert total >= length*min_units\n",
    "\n",
    "    skills = []\n",
    "\n",
    "    for i in range(length):\n",
    "\n",
    "        a = remaining - (length - (i+1))*max_units\n",
    "        a = max(a, min_units)\n",
    "\n",
    "        b = remaining - (length - (i+1))*min_units\n",
    "        b = min(b, max_units)\n",
    "\n",
    "        n = Random.randint(a,b)\n",
    "        skills.append(n)\n",
    "        remaining -= n\n",
    "        \n",
    "    assert sum(skills) == total\n",
    "    return skills"
   ]
  },
  {
   "cell_type": "code",
   "execution_count": 14,
   "metadata": {},
   "outputs": [
    {
     "name": "stdout",
     "output_type": "stream",
     "text": [
      "[1, 1, 1, 1, 1] ; sum =  5\n",
      "[2, 1, 1, 1, 1] ; sum =  6\n",
      "[1, 1, 3, 1, 1] ; sum =  7\n",
      "[4, 1, 1, 1, 1] ; sum =  8\n",
      "[2, 4, 1, 1, 1] ; sum =  9\n",
      "[6, 1, 1, 1, 1] ; sum =  10\n",
      "[3, 5, 1, 1, 1] ; sum =  11\n",
      "[7, 1, 2, 1, 1] ; sum =  12\n",
      "[9, 1, 1, 1, 1] ; sum =  13\n",
      "[7, 3, 1, 2, 1] ; sum =  14\n",
      "[9, 1, 1, 3, 1] ; sum =  15\n",
      "[2, 10, 2, 1, 1] ; sum =  16\n",
      "[3, 10, 2, 1, 1] ; sum =  17\n",
      "[6, 4, 2, 2, 4] ; sum =  18\n",
      "[1, 3, 1, 7, 7] ; sum =  19\n",
      "[10, 6, 2, 1, 1] ; sum =  20\n",
      "[5, 10, 1, 4, 1] ; sum =  21\n",
      "[8, 8, 1, 4, 1] ; sum =  22\n",
      "[9, 10, 1, 2, 1] ; sum =  23\n",
      "[2, 8, 2, 10, 2] ; sum =  24\n",
      "[5, 5, 2, 6, 7] ; sum =  25\n",
      "[10, 1, 9, 2, 4] ; sum =  26\n",
      "[1, 10, 6, 8, 2] ; sum =  27\n",
      "[4, 6, 2, 7, 9] ; sum =  28\n",
      "[10, 7, 1, 2, 9] ; sum =  29\n",
      "[4, 4, 7, 10, 5] ; sum =  30\n",
      "[9, 10, 7, 1, 4] ; sum =  31\n",
      "[4, 2, 6, 10, 10] ; sum =  32\n",
      "[8, 2, 5, 8, 10] ; sum =  33\n",
      "[3, 10, 10, 6, 5] ; sum =  34\n",
      "[4, 2, 10, 10, 9] ; sum =  35\n",
      "[6, 2, 10, 9, 9] ; sum =  36\n",
      "[3, 5, 9, 10, 10] ; sum =  37\n",
      "[8, 2, 9, 10, 9] ; sum =  38\n",
      "[2, 10, 9, 8, 10] ; sum =  39\n",
      "[7, 5, 10, 10, 8] ; sum =  40\n",
      "[7, 8, 6, 10, 10] ; sum =  41\n",
      "[2, 10, 10, 10, 10] ; sum =  42\n",
      "[3, 10, 10, 10, 10] ; sum =  43\n",
      "[7, 9, 9, 10, 9] ; sum =  44\n",
      "[9, 7, 10, 9, 10] ; sum =  45\n",
      "[6, 10, 10, 10, 10] ; sum =  46\n",
      "[8, 10, 10, 9, 10] ; sum =  47\n",
      "[10, 10, 9, 9, 10] ; sum =  48\n",
      "[9, 10, 10, 10, 10] ; sum =  49\n"
     ]
    }
   ],
   "source": [
    "for t in np.arange(5,50):\n",
    "    print(generate_skills(t), \"; sum = \", t)"
   ]
  },
  {
   "cell_type": "code",
   "execution_count": 15,
   "metadata": {},
   "outputs": [],
   "source": [
    "from itertools import combinations"
   ]
  },
  {
   "cell_type": "code",
   "execution_count": 16,
   "metadata": {},
   "outputs": [
    {
     "data": {
      "text/plain": [
       "[]"
      ]
     },
     "execution_count": 16,
     "metadata": {},
     "output_type": "execute_result"
    }
   ],
   "source": [
    "list(combinations([1], 2))"
   ]
  },
  {
   "cell_type": "code",
   "execution_count": 17,
   "metadata": {},
   "outputs": [],
   "source": [
    "test = {1:2}"
   ]
  },
  {
   "cell_type": "code",
   "execution_count": 18,
   "metadata": {},
   "outputs": [
    {
     "data": {
      "text/plain": [
       "[1, 1, 1]"
      ]
     },
     "execution_count": 18,
     "metadata": {},
     "output_type": "execute_result"
    }
   ],
   "source": [
    "Random.choices([1], 3)"
   ]
  },
  {
   "cell_type": "code",
   "execution_count": 19,
   "metadata": {},
   "outputs": [],
   "source": [
    "test = np.int32(1)\n",
    "t = {test: 1}"
   ]
  },
  {
   "cell_type": "code",
   "execution_count": 20,
   "metadata": {},
   "outputs": [
    {
     "data": {
      "text/plain": [
       "array([2., 3., 4.])"
      ]
     },
     "execution_count": 20,
     "metadata": {},
     "output_type": "execute_result"
    }
   ],
   "source": [
    "np.percentile([1,2,3,4,5], [25,50,75])"
   ]
  },
  {
   "cell_type": "code",
   "execution_count": 21,
   "metadata": {},
   "outputs": [],
   "source": [
    "test = [True, False, True]"
   ]
  },
  {
   "cell_type": "code",
   "execution_count": 22,
   "metadata": {},
   "outputs": [
    {
     "data": {
      "text/plain": [
       "2"
      ]
     },
     "execution_count": 22,
     "metadata": {},
     "output_type": "execute_result"
    }
   ],
   "source": [
    "sum(test)"
   ]
  },
  {
   "cell_type": "code",
   "execution_count": 23,
   "metadata": {},
   "outputs": [
    {
     "data": {
      "text/plain": [
       "2"
      ]
     },
     "execution_count": 23,
     "metadata": {},
     "output_type": "execute_result"
    }
   ],
   "source": [
    "1 + True"
   ]
  },
  {
   "cell_type": "code",
   "execution_count": 24,
   "metadata": {},
   "outputs": [
    {
     "ename": "AttributeError",
     "evalue": "'set' object has no attribute 'empty'",
     "output_type": "error",
     "traceback": [
      "\u001b[1;31m---------------------------------------------------------------------------\u001b[0m",
      "\u001b[1;31mAttributeError\u001b[0m                            Traceback (most recent call last)",
      "\u001b[1;32m<ipython-input-24-f7f000f529a3>\u001b[0m in \u001b[0;36m<module>\u001b[1;34m\u001b[0m\n\u001b[1;32m----> 1\u001b[1;33m \u001b[0mset\u001b[0m\u001b[1;33m(\u001b[0m\u001b[1;33m[\u001b[0m\u001b[1;36m1\u001b[0m\u001b[1;33m,\u001b[0m\u001b[1;36m2\u001b[0m\u001b[1;33m]\u001b[0m\u001b[1;33m)\u001b[0m\u001b[1;33m.\u001b[0m\u001b[0mintersection\u001b[0m\u001b[1;33m(\u001b[0m\u001b[1;33m[\u001b[0m\u001b[1;36m1\u001b[0m\u001b[1;33m,\u001b[0m\u001b[1;36m3\u001b[0m\u001b[1;33m,\u001b[0m\u001b[1;36m4\u001b[0m\u001b[1;33m]\u001b[0m\u001b[1;33m)\u001b[0m\u001b[1;33m.\u001b[0m\u001b[0mempty\u001b[0m\u001b[1;33m\u001b[0m\u001b[1;33m\u001b[0m\u001b[0m\n\u001b[0m",
      "\u001b[1;31mAttributeError\u001b[0m: 'set' object has no attribute 'empty'"
     ]
    }
   ],
   "source": [
    "set([1,2]).intersection([1,3,4]).empty"
   ]
  },
  {
   "cell_type": "code",
   "execution_count": null,
   "metadata": {},
   "outputs": [],
   "source": [
    "t[:2]"
   ]
  },
  {
   "cell_type": "code",
   "execution_count": null,
   "metadata": {},
   "outputs": [],
   "source": []
  }
 ],
 "metadata": {
  "kernelspec": {
   "display_name": "SuperScriptEnv",
   "language": "python",
   "name": "superscriptenv"
  },
  "language_info": {
   "codemirror_mode": {
    "name": "ipython",
    "version": 3
   },
   "file_extension": ".py",
   "mimetype": "text/x-python",
   "name": "python",
   "nbconvert_exporter": "python",
   "pygments_lexer": "ipython3",
   "version": "3.8.5"
  }
 },
 "nbformat": 4,
 "nbformat_minor": 4
}
