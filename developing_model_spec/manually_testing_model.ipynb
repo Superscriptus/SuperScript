{
 "cells": [
  {
   "cell_type": "markdown",
   "metadata": {},
   "source": [
    "#### Manual testing...\n",
    "\n",
    "This notebook serves as an integration test to confirm that the model is behaving as we expect."
   ]
  },
  {
   "cell_type": "code",
   "execution_count": 1,
   "metadata": {},
   "outputs": [],
   "source": [
    "import sys\n",
    "import os\n",
    "import numpy as np\n",
    "import matplotlib.pyplot as plt\n",
    "\n",
    "%matplotlib inline"
   ]
  },
  {
   "cell_type": "code",
   "execution_count": 2,
   "metadata": {},
   "outputs": [],
   "source": [
    "MODEL_DIR = os.path.realpath(os.path.dirname('..\\superscript_model'))\n",
    "sys.path.append(os.path.normpath(MODEL_DIR))"
   ]
  },
  {
   "cell_type": "code",
   "execution_count": 3,
   "metadata": {},
   "outputs": [],
   "source": [
    "from superscript_model import model\n",
    "from superscript_model.utilities import Random"
   ]
  },
  {
   "cell_type": "code",
   "execution_count": 4,
   "metadata": {},
   "outputs": [],
   "source": [
    "abm = model.SuperScriptModel(1000)"
   ]
  },
  {
   "cell_type": "code",
   "execution_count": null,
   "metadata": {},
   "outputs": [],
   "source": [
    "steps = range(1000)\n",
    "active_projects = []\n",
    "team_size = []\n",
    "\n",
    "for step in steps:\n",
    "    #print(step)\n",
    "    abm.step()\n",
    "    \n",
    "    size = 0\n",
    "    active_projects.append(abm.inventory.active_count)\n",
    "    \n",
    "    for project in abm.inventory.projects.values():\n",
    "        size += len(project.team.members)\n",
    "    team_size.append(size/len(abm.inventory.projects.values()))"
   ]
  },
  {
   "cell_type": "code",
   "execution_count": null,
   "metadata": {
    "scrolled": true
   },
   "outputs": [],
   "source": [
    "plt.subplot(2,1,1)\n",
    "plt.plot(steps, active_projects)\n",
    "plt.ylabel('active projects')\n",
    "\n",
    "plt.subplot(2,1,2)\n",
    "plt.plot(steps, team_size)\n",
    "plt.xlabel('time steps')\n",
    "plt.ylabel('average team size');"
   ]
  },
  {
   "cell_type": "code",
   "execution_count": null,
   "metadata": {},
   "outputs": [],
   "source": [
    "print(np.mean(active_projects[200:]))\n",
    "print(np.mean(team_size[200:]))"
   ]
  },
  {
   "cell_type": "markdown",
   "metadata": {},
   "source": [
    "#### We now select a random worker from the model and inspect the worker:\n",
    "\n",
    "This produces a json formatted text summary of the worker. Note that this representation will be updated when we add in the worker's history and project activities."
   ]
  },
  {
   "cell_type": "code",
   "execution_count": null,
   "metadata": {},
   "outputs": [],
   "source": [
    "random_worker = Random.choice(abm.schedule.agents)\n",
    "\n",
    "print(random_worker.skills.to_string())"
   ]
  },
  {
   "cell_type": "markdown",
   "metadata": {},
   "source": [
    "#### We now do the same for a randomly selected project.."
   ]
  },
  {
   "cell_type": "code",
   "execution_count": null,
   "metadata": {},
   "outputs": [],
   "source": [
    "random_project = Random.choice(list(abm.inventory.projects.values()))"
   ]
  },
  {
   "cell_type": "code",
   "execution_count": null,
   "metadata": {},
   "outputs": [],
   "source": [
    "print(random_project.requirements.to_string())"
   ]
  },
  {
   "cell_type": "markdown",
   "metadata": {},
   "source": [
    "#### For this project we can also inspect the Team:\n",
    "\n",
    "### Note: here the team of 5 is doing its best to meet the high skill unit requirements...Check with Michael. "
   ]
  },
  {
   "cell_type": "code",
   "execution_count": null,
   "metadata": {},
   "outputs": [],
   "source": [
    "print(random_project.team.to_string())"
   ]
  },
  {
   "cell_type": "code",
   "execution_count": null,
   "metadata": {},
   "outputs": [],
   "source": [
    "random_project = Random.choice(list(abm.inventory.projects.values()))"
   ]
  },
  {
   "cell_type": "code",
   "execution_count": null,
   "metadata": {},
   "outputs": [],
   "source": [
    "print(random_project.requirements.to_string())"
   ]
  },
  {
   "cell_type": "markdown",
   "metadata": {},
   "source": [
    "#### For this project we can also inspect the Team:\n",
    "\n",
    "### Note: here the team of 5 is doing its best to meet the high skill unit requirements...Check with Michael. "
   ]
  },
  {
   "cell_type": "code",
   "execution_count": null,
   "metadata": {},
   "outputs": [],
   "source": [
    "print(random_project.team.to_string())"
   ]
  },
  {
   "cell_type": "markdown",
   "metadata": {},
   "source": [
    "#### Note that allocating the total skill units across the skills in a robust way was a non-trivial problem! Solved as follows...\n",
    "\n",
    "*(Move this to another notebook).*"
   ]
  },
  {
   "cell_type": "markdown",
   "metadata": {},
   "source": [
    "Select 5 numbers in (1,10) that sum to X, where X <=50\n",
    "Always a = max(a,1) and b = min(b,10)\n",
    "-\tSelect n1 randint(a,b) where a = X – (4\\*10) and b = X – (4\\*1)\n",
    "-\tSelect n2 randint(a,b) where a = X – n1 – (3\\*10) and b = X – n1 – (3\\*1)\n",
    "-\tSelect n3 randint(a,b) where a = X – n1 – n2 – (2\\*10) and b = X – n1 – n2 – (2\\*1)\n",
    "-\t…\n",
    "-\tSelect n5 randint(a,b) where a = X – n1 – n2 – n3 – n4 and b = X – n1 – n2 – n3 – n4\n"
   ]
  },
  {
   "cell_type": "code",
   "execution_count": null,
   "metadata": {},
   "outputs": [],
   "source": [
    "def generate_skills(total):\n",
    "\n",
    "    min_units = 1\n",
    "    max_units = 10\n",
    "\n",
    "    remaining = total\n",
    "    length = 5\n",
    "\n",
    "    assert total <= length*max_units\n",
    "    assert total >= length*min_units\n",
    "\n",
    "    skills = []\n",
    "\n",
    "    for i in range(length):\n",
    "\n",
    "        a = remaining - (length - (i+1))*max_units\n",
    "        a = max(a, min_units)\n",
    "\n",
    "        b = remaining - (length - (i+1))*min_units\n",
    "        b = min(b, max_units)\n",
    "\n",
    "        n = Random.randint(a,b)\n",
    "        skills.append(n)\n",
    "        remaining -= n\n",
    "        \n",
    "    assert sum(skills) == total\n",
    "    return skills"
   ]
  },
  {
   "cell_type": "code",
   "execution_count": null,
   "metadata": {},
   "outputs": [],
   "source": [
    "for t in np.arange(5,50):\n",
    "    print(generate_skills(t), \"; sum = \", t)"
   ]
  }
 ],
 "metadata": {
  "kernelspec": {
   "display_name": "SuperScriptEnv",
   "language": "python",
   "name": "superscriptenv"
  },
  "language_info": {
   "codemirror_mode": {
    "name": "ipython",
    "version": 3
   },
   "file_extension": ".py",
   "mimetype": "text/x-python",
   "name": "python",
   "nbconvert_exporter": "python",
   "pygments_lexer": "ipython3",
   "version": "3.8.5"
  }
 },
 "nbformat": 4,
 "nbformat_minor": 4
}
