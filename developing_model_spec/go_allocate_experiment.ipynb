{
 "cells": [
  {
   "cell_type": "markdown",
   "metadata": {},
   "source": [
    "In this notebook we investgate the computationally intensive algoirithm for assinging workers to projects and scheduling those projects.\n",
    "\n",
    "We initially make the following assumptions/simplifications:\n",
    "- P=20 projects are created at timestep t\n",
    "- W=450 workers are already actively engaged in projects at the timestep (however, some of these workers will become available at timesteos t+1, t+2...and so must be included).\n",
    "- All combinations of teams need to be assembled and have their probability of success calculated*\n",
    "\n",
    "\\*In practice the computation is reduced because: 1) workers with OVR < 2xproject risk cannot participate; 2) teams that exceed project budget do not need to have probability of success calculated because they cannot be afforded; 3)...**other simplifications?**  \n",
    "\n",
    "The computation is as follows:\n",
    "- Rank the projects, then for each project..\n",
    "- for n in (3,4,5,6,7):\n",
    "    > assemble all possible n worker teams at t, t+1, t+2, t+3, t+4 (if forward dispatch allowed)\n",
    "    > calculate and record probability of success for each team"
   ]
  },
  {
   "cell_type": "code",
   "execution_count": null,
   "metadata": {},
   "outputs": [],
   "source": []
  }
 ],
 "metadata": {
  "kernelspec": {
   "display_name": "Python 3",
   "language": "python",
   "name": "python3"
  },
  "language_info": {
   "codemirror_mode": {
    "name": "ipython",
    "version": 3
   },
   "file_extension": ".py",
   "mimetype": "text/x-python",
   "name": "python",
   "nbconvert_exporter": "python",
   "pygments_lexer": "ipython3",
   "version": "3.7.6"
  }
 },
 "nbformat": 4,
 "nbformat_minor": 4
}
