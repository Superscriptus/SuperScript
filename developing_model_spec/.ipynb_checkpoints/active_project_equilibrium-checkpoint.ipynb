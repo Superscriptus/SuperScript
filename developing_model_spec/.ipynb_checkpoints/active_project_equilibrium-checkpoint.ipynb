{
 "cells": [
  {
   "cell_type": "markdown",
   "metadata": {},
   "source": [
    "Here we assume that:\n",
    "* 20 new projects are created on each time step\n",
    "* each project is assigned a random start time according to *timing_flexibility_vector*\n",
    "* all projects run for 5 time steps"
   ]
  },
  {
   "cell_type": "code",
   "execution_count": 2,
   "metadata": {},
   "outputs": [],
   "source": [
    "number_new_projects = 20\n",
    "timing_flexibility_vector = [0.5,0.25,0.1,0.1,0.05]\n",
    "project_length = 5\n",
    "total_timesteps = 1000"
   ]
  },
  {
   "cell_type": "code",
   "execution_count": 8,
   "metadata": {},
   "outputs": [],
   "source": [
    "class Project:\n",
    "    \n",
    "    def __init__(self, i, start, length=project_length):\n",
    "        \n",
    "        self.i = i\n",
    "        self.start = start\n",
    "        self.length = length\n",
    "        self.is_active = True\n",
    "        self.end = None\n",
    "        \n",
    "    def run(self):\n",
    "        \n",
    "        if self.is_active:\n",
    "            \n",
    "            self.length -= 1\n",
    "            if self.legnth == 0:\n",
    "                self.is_active = False\n",
    "        "
   ]
  },
  {
   "cell_type": "code",
   "execution_count": 7,
   "metadata": {},
   "outputs": [],
   "source": [
    "project_counter = 0\n",
    "\n",
    "for t in range(total_timesteps):\n",
    "    \n",
    "    for p in range(number_new_projects):\n",
    "        \n",
    "        new_project = Project(project_counter,\n",
    "                              t,project_length)\n",
    "        project_counter++\n",
    "    "
   ]
  },
  {
   "cell_type": "code",
   "execution_count": null,
   "metadata": {},
   "outputs": [],
   "source": []
  }
 ],
 "metadata": {
  "kernelspec": {
   "display_name": "Python 3",
   "language": "python",
   "name": "python3"
  },
  "language_info": {
   "codemirror_mode": {
    "name": "ipython",
    "version": 3
   },
   "file_extension": ".py",
   "mimetype": "text/x-python",
   "name": "python",
   "nbconvert_exporter": "python",
   "pygments_lexer": "ipython3",
   "version": "3.7.6"
  }
 },
 "nbformat": 4,
 "nbformat_minor": 4
}
