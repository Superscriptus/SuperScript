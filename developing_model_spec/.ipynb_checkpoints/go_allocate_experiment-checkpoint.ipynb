{
 "cells": [
  {
   "cell_type": "markdown",
   "metadata": {},
   "source": [
    "In this notebook we investgate the computationally intensive algoirithm for assinging workers to projects and scheduling those projects.\n",
    "\n",
    "We initially make the following assumptions/simplifications:\n",
    "- P=20 projects are created at timestep t\n",
    "- W=450 workers are already actively engaged in projects at the timestep (however, some of these workers will become available at timesteos t+1, t+2...and so must be included).\n",
    "- All combinations of teams need to be assembled and have their probability of success calculated*\n",
    "\n",
    "\\*In practice the computation is reduced because: 1) workers with OVR < 2xproject risk cannot participate; 2) teams that exceed project budget do not need to have probability of success calculated because they cannot be afforded; 3)...**other simplifications?**  \n",
    "\n",
    "The computation is as follows:\n",
    "- Rank the projects, then for each project..\n",
    "- for n in (3,4,5,6,7):\n",
    "    > assemble all possible n worker teams at t, t+1, t+2, t+3, t+4 (if forward dispatch allowed)\n",
    "    > calculate and record probability of success for each team"
   ]
  },
  {
   "cell_type": "code",
   "execution_count": 38,
   "metadata": {},
   "outputs": [],
   "source": [
    "from itertools import combinations \n",
    "import matplotlib.pyplot as plt\n",
    "import operator as op\n",
    "from functools import reduce\n",
    "import time\n",
    "\n",
    "%matplotlib inline"
   ]
  },
  {
   "cell_type": "code",
   "execution_count": 13,
   "metadata": {},
   "outputs": [],
   "source": [
    "def ncr(n, r):\n",
    "    r = min(r, n-r)\n",
    "    numer = reduce(op.mul, range(n, n-r, -1), 1)\n",
    "    denom = reduce(op.mul, range(1, r+1), 1)\n",
    "    return numer // denom "
   ]
  },
  {
   "cell_type": "code",
   "execution_count": 25,
   "metadata": {},
   "outputs": [
    {
     "name": "stdout",
     "output_type": "stream",
     "text": [
      "27578100 teams of 3 workers\n",
      "3771305175 teams of 4 workers\n",
      "411826525110 teams of 5 workers\n",
      "37407576030825 teams of 6 workers\n",
      "2907103051538400 teams of 7 workers\n"
     ]
    }
   ],
   "source": [
    "free_workers = 550\n",
    "\n",
    "for team_size in [3,4,5,6,7]:\n",
    "    \n",
    "    team_count = ncr(550, team_size)\n",
    "    print(\"%d teams of %d workers\" % (team_count, team_size))"
   ]
  },
  {
   "cell_type": "code",
   "execution_count": 37,
   "metadata": {},
   "outputs": [
    {
     "name": "stdout",
     "output_type": "stream",
     "text": [
      "At timestep t there are:\n",
      "550 teams of 1 workers (calculation took 0.000 minutes)\n",
      "150975 teams of 2 workers (calculation took 0.001 minutes)\n",
      "27578100 teams of 3 workers (calculation took 0.076 minutes)\n",
      "3771305175 teams of 4 workers (calculation took 11.352 minutes)\n"
     ]
    },
    {
     "ename": "KeyboardInterrupt",
     "evalue": "",
     "output_type": "error",
     "traceback": [
      "\u001b[1;31m---------------------------------------------------------------------------\u001b[0m",
      "\u001b[1;31mKeyboardInterrupt\u001b[0m                         Traceback (most recent call last)",
      "\u001b[1;32m<ipython-input-37-1ba60b4dce91>\u001b[0m in \u001b[0;36m<module>\u001b[1;34m\u001b[0m\n\u001b[0;32m      8\u001b[0m     \u001b[0mteam_count\u001b[0m \u001b[1;33m=\u001b[0m \u001b[1;36m0\u001b[0m\u001b[1;33m\u001b[0m\u001b[1;33m\u001b[0m\u001b[0m\n\u001b[0;32m      9\u001b[0m     \u001b[1;32mfor\u001b[0m \u001b[0mi\u001b[0m \u001b[1;32min\u001b[0m \u001b[0mcomb\u001b[0m\u001b[1;33m:\u001b[0m\u001b[1;33m\u001b[0m\u001b[1;33m\u001b[0m\u001b[0m\n\u001b[1;32m---> 10\u001b[1;33m         \u001b[0mteam_count\u001b[0m \u001b[1;33m+=\u001b[0m\u001b[1;36m1\u001b[0m\u001b[1;33m\u001b[0m\u001b[1;33m\u001b[0m\u001b[0m\n\u001b[0m\u001b[0;32m     11\u001b[0m \u001b[1;33m\u001b[0m\u001b[0m\n\u001b[0;32m     12\u001b[0m     \u001b[0mend\u001b[0m \u001b[1;33m=\u001b[0m \u001b[0mtime\u001b[0m\u001b[1;33m.\u001b[0m\u001b[0mtime\u001b[0m\u001b[1;33m(\u001b[0m\u001b[1;33m)\u001b[0m\u001b[1;33m\u001b[0m\u001b[1;33m\u001b[0m\u001b[0m\n",
      "\u001b[1;31mKeyboardInterrupt\u001b[0m: "
     ]
    }
   ],
   "source": [
    "print(\"At timestep t there are:\")\n",
    "\n",
    "for team_size in [1,2,3,4,5,6,7]:\n",
    "    \n",
    "    start = time.time()\n",
    "    comb = combinations(range(550), team_size)\n",
    "    \n",
    "    team_count = 0\n",
    "    for i in comb:\n",
    "        team_count +=1\n",
    "        \n",
    "    end = time.time()\n",
    "    \n",
    "    print(\"%d teams of %d workers (calculation took %.3f minutes)\" \n",
    "          % (team_count, team_size, (end-start)/60))"
   ]
  },
  {
   "cell_type": "code",
   "execution_count": 44,
   "metadata": {},
   "outputs": [
    {
     "data": {
      "image/png": "[encoded data removed]",
      "text/plain": [
       "<Figure size 432x288 with 1 Axes>"
      ]
     },
     "metadata": {
      "needs_background": "light"
     },
     "output_type": "display_data"
    }
   ],
   "source": [
    "plt.plot([1,2,3,4], [0.0, 0.001, 0.076, 11.352], '-*')\n",
    "plt.yscale('log');"
   ]
  },
  {
   "cell_type": "code",
   "execution_count": null,
   "metadata": {},
   "outputs": [],
   "source": []
  }
 ],
 "metadata": {
  "kernelspec": {
   "display_name": "Python 3",
   "language": "python",
   "name": "python3"
  },
  "language_info": {
   "codemirror_mode": {
    "name": "ipython",
    "version": 3
   },
   "file_extension": ".py",
   "mimetype": "text/x-python",
   "name": "python",
   "nbconvert_exporter": "python",
   "pygments_lexer": "ipython3",
   "version": "3.7.6"
  }
 },
 "nbformat": 4,
 "nbformat_minor": 4
}
