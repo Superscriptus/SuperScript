{
 "cells": [
  {
   "cell_type": "markdown",
   "metadata": {},
   "source": [
    "### Developing RL for team allocation.\n",
    "\n",
    "We will compare the RL approach to current algorithms (Random, Basic, Basin), and conduct thorough benchmarking and\n",
    "performance comparison.\n",
    "\n",
    "Initially we need to work on a reduced problem size in order to stay within the 'tabular regime' and be able to use\n",
    "dynamic programming solutions to the RL task (see [reinforcement_learning_plan](reinforcement_learning_plan.pdf)).\n",
    "\n",
    "To begin development, we will work only optimising the hard skills of small teams in small organisations. This will\n",
    "allow us to ensure that the algorithms are working correctly and to do some initial benchmarking to understand how the\n",
    "problem will scale.\n",
    "\n",
    "The plan of action involves:\n",
    "1. [Define and count all possible states](#num_1)\n",
    "2. [Add constraints to reduce size of state space](#num_2)\n",
    "3. Create reduced probability function (hard skills only)\n",
    "4. Write function to map state vector to ABM state (such that probability function can be called).\n",
    "5. Define action space and constraints (not all actions possible in any given state - concise way to encode constraints?).\n",
    "6. Define reward function for MDP (sparse? discounted?)\n",
    "7. Define termination criteria for MDP\n",
    "8. Implement dynamic programming algorithm (choice between value and policy iteration).\n",
    "9. Test run of DP with benchmarking\n",
    "10. Write function to map state vector to organisation strategy call (for Randon, Basic, Basin team allocation).\n",
    "11. Test run of Random, Basic, Basin with benchmarking on reduced problem, for comparison with DP.\n",
    "12. Run experiments to determine scaling characteristics with problem size.\n",
    "(13. Implement neural network approach....)"
   ]
  },
  {
   "cell_type": "code",
   "execution_count": null,
   "metadata": {
    "pycharm": {
     "name": "#%%\n"
    }
   },
   "outputs": [],
   "source": [
    "from scipy.optimize import minimize, NonlinearConstraint, basinhopping"
   ]
  },
  {
   "cell_type": "code",
   "execution_count": null,
   "metadata": {
    "pycharm": {
     "name": "#%%\n"
    }
   },
   "outputs": [],
   "source": [
    "import sys, os\n",
    "MODEL_DIR = os.path.realpath(os.path.dirname('..\\superscript_model'))\n",
    "sys.path.append(os.path.normpath(MODEL_DIR))"
   ]
  },
  {
   "cell_type": "code",
   "execution_count": null,
   "metadata": {
    "pycharm": {
     "name": "#%%\n"
    }
   },
   "outputs": [],
   "source": [
    "from superscript_model import model"
   ]
  },
  {
   "cell_type": "code",
   "execution_count": null,
   "metadata": {
    "pycharm": {
     "name": "#%%\n"
    }
   },
   "outputs": [],
   "source": [
    "STEPS = 25\n",
    "\n",
    "abm = model.SuperScriptModel(worker_count=60, \n",
    "                             new_projects_per_timestep=2, \n",
    "                             worker_strategy = \"Stake\",\n",
    "                             organisation_strategy = 'Basic')"
   ]
  },
  {
   "cell_type": "markdown",
   "metadata": {
    "pycharm": {
     "name": "#%% md\n"
    }
   },
   "source": [
    "<a id='num_1'></a>\n",
    "#### 1. Defining the state vector (and listing all states).\n",
    "\n",
    "Here we define the state vector for the hard-skill-only problem.\n",
    "\n",
    "Based on the table in [reinforcement_learning_plan](reinforcement_learning_plan.pdf), we have 2H*5 * 5 * WH*5 * 2*W*H\n",
    "possible states,  where H is the number of hard skills and W is the number of workers."
   ]
  },
  {
   "cell_type": "code",
   "execution_count": null,
   "outputs": [],
   "source": [
    "# code to create and populate state vector"
   ],
   "metadata": {
    "collapsed": false,
    "pycharm": {
     "name": "#%%\n"
    }
   }
  },
  {
   "cell_type": "code",
   "execution_count": null,
   "outputs": [],
   "source": [
    "# code to count number of states and size in memory/on disk"
   ],
   "metadata": {
    "collapsed": false,
    "pycharm": {
     "name": "#%%\n"
    }
   }
  },
  {
   "cell_type": "code",
   "execution_count": null,
   "outputs": [],
   "source": [
    "# code to compare size with theoretical calculation"
   ],
   "metadata": {
    "collapsed": false,
    "pycharm": {
     "name": "#%%\n"
    }
   }
  },
  {
   "cell_type": "markdown",
   "source": [
    "<a id='num_2'></a>\n",
    "#### 2. Adding constraints on state space size.\n",
    "\n",
    "Not all states are valid.\n",
    "\n",
    "We have constraints based on@\n",
    "- team size (min 3, max 7).\n",
    "- team budget\n",
    "- project requirements"
   ],
   "metadata": {
    "collapsed": false
   }
  },
  {
   "cell_type": "code",
   "execution_count": null,
   "outputs": [],
   "source": [
    "# code to define constraints and produce reduced state vector"
   ],
   "metadata": {
    "collapsed": false,
    "pycharm": {
     "name": "#%%\n"
    }
   }
  },
  {
   "cell_type": "code",
   "execution_count": null,
   "outputs": [],
   "source": [
    "# code to count number of valid states and size in memory/on disk. Quantify reduction.\n"
   ],
   "metadata": {
    "collapsed": false,
    "pycharm": {
     "name": "#%%\n"
    }
   }
  }
 ],
 "metadata": {
  "kernelspec": {
   "display_name": "Python 3",
   "language": "python",
   "name": "python3"
  },
  "language_info": {
   "codemirror_mode": {
    "name": "ipython",
    "version": 3
   },
   "file_extension": ".py",
   "mimetype": "text/x-python",
   "name": "python",
   "nbconvert_exporter": "python",
   "pygments_lexer": "ipython3",
   "version": "3.6.9"
  }
 },
 "nbformat": 4,
 "nbformat_minor": 4
}